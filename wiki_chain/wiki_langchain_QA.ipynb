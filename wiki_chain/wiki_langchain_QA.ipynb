{
 "cells": [
  {
   "cell_type": "code",
   "execution_count": null,
   "metadata": {},
   "outputs": [],
   "source": [
    "from langchain_community.retrievers import WikipediaRetriever"
   ]
  },
  {
   "cell_type": "code",
   "execution_count": 2,
   "metadata": {},
   "outputs": [],
   "source": [
    "wikipedia_retriever = WikipediaRetriever(lang=\"zh\", load_max_docs=100, load_all_available_meta=False)"
   ]
  },
  {
   "cell_type": "code",
   "execution_count": 3,
   "metadata": {},
   "outputs": [],
   "source": [
    "docs = wikipedia_retriever.get_relevant_documents(query=\"HUNTER X HUNTER\")"
   ]
  },
  {
   "cell_type": "code",
   "execution_count": 4,
   "metadata": {},
   "outputs": [
    {
     "data": {
      "text/plain": [
       "{'title': 'HUNTER×HUNTER',\n",
       " 'summary': '《HUNTER×HUNTER》（日语：ハンター×ハンター）是由日本漫畫家冨樫義博所編繪的日本漫畫作品，在日本《週刊少年Jump》1998年第14期開始連載至今，目前不定期连载中。',\n",
       " 'source': 'https://zh.wikipedia.org/wiki/HUNTER%C3%97HUNTER'}"
      ]
     },
     "execution_count": 4,
     "metadata": {},
     "output_type": "execute_result"
    }
   ],
   "source": [
    "docs[0].metadata  # meta-information of the Document"
   ]
  },
  {
   "cell_type": "code",
   "execution_count": 7,
   "metadata": {},
   "outputs": [
    {
     "data": {
      "text/plain": [
       "3"
      ]
     },
     "execution_count": 7,
     "metadata": {},
     "output_type": "execute_result"
    }
   ],
   "source": [
    "len(docs)"
   ]
  },
  {
   "cell_type": "code",
   "execution_count": 5,
   "metadata": {},
   "outputs": [
    {
     "data": {
      "text/plain": [
       "'《HUNTER×HUNTER》（日语：ハンター×ハンター）是由日本漫畫家冨樫義博所編繪的日本漫畫作品，在日本《週刊少年Jump》1998年第14期開始連載至今，目前不定期连载中。\\n\\n\\n== 故事簡介 ==\\n劇情描述一位12歲少年小傑·富力士尋找父親——金·富力士的故事。獵人（HUNTER）一詞是故事設定的世界中各種領域的社會菁英。此外，此本作的角色及設定用語請參考以下條目介紹。\\n\\n獵人試驗篇\\n漫畫：No.001～038（單行本1～5卷）；1999年動畫：1～31話；2011年動畫：1～21話\\n自小生長在鯨魚島的小傑小時候因誤入母狐熊的勢力範圍，就快要被攻擊時，一名路過、名叫凱特的男子救了他。原來凱特是他的父親──金的徒弟，凱特告訴小傑許多關於他的父親及獵人相關的事情，因此小傑對金及獵人這個職業有很大的憧憬。他在考試的過程中結識古拿比加、雷歐力、奇犽等好友，並與西索結下再戰之緣。最後，在互相'"
      ]
     },
     "execution_count": 5,
     "metadata": {},
     "output_type": "execute_result"
    }
   ],
   "source": [
    "docs[0].page_content[:400]  # a content of the Document"
   ]
  },
  {
   "cell_type": "code",
   "execution_count": 6,
   "metadata": {},
   "outputs": [],
   "source": [
    "docs = wikipedia_retriever.get_relevant_documents(query=\"藍芽\")"
   ]
  },
  {
   "cell_type": "code",
   "execution_count": 7,
   "metadata": {},
   "outputs": [
    {
     "data": {
      "text/plain": [
       "{'title': '藍牙',\n",
       " 'summary': '藍牙（英語：Bluetooth）是一種无线通讯技術標準，用來讓固定與行動裝置，在短距離間交換資料，以形成個人區域網絡（PAN）。其使用短波特高頻（UHF）無線電波，經由2.4至2.485 GHz的ISM頻段來進行通信。1994年由電信商愛立信（Ericsson）發展出這個技術。它最初的設計是希望建立一個RS-232數據線的無線通訊替代版本。它能夠連結多個裝置，以克服同步的亦被干擾等問題。\\n藍牙技術目前由藍牙技術聯盟（SIG）負責維護其技術標準，其成員已超過三万，分布在電信、電腦、網路與消費性電子產品等领域。IEEE曾經將藍牙技術標準化為IEEE 802.15.1，但是這個標準已經不再繼續使用。\\n\\n',\n",
       " 'source': 'https://zh.wikipedia.org/wiki/%E8%97%8D%E7%89%99'}"
      ]
     },
     "execution_count": 7,
     "metadata": {},
     "output_type": "execute_result"
    }
   ],
   "source": [
    "docs[0].metadata  # meta-information of the Document"
   ]
  },
  {
   "cell_type": "code",
   "execution_count": 8,
   "metadata": {},
   "outputs": [],
   "source": [
    "docs = wikipedia_retriever.get_relevant_documents(query=\"CPU\")"
   ]
  },
  {
   "cell_type": "code",
   "execution_count": 9,
   "metadata": {},
   "outputs": [
    {
     "data": {
      "text/plain": [
       "{'title': '中央处理器',\n",
       " 'summary': '中央处理器（香港作CPU，台湾作CPU）（英語：Central Processing Unit，英文缩写为CPU）是计算机的主要设备之一，功能主要是解释计算机指令以及处理计算机软件中的数据。1970年代以前，中央处理器由多个独立单元构成，后来发展出由集成电路制造的中央处理器，這些高度收縮的元件就是所謂的微处理器，其中分出的中央处理器最為复杂的电路可以做成单一微小功能强大的单元，也就是所謂的核心。\\n中央处理器廣義上指一系列可以执行复杂的计算机程序的逻辑机器。这个空泛的定义很容易地将在“CPU”这个名称被普遍使用之前的早期计算机也包括在内。无论如何，至少从1960年代早期开始，这个名称及其缩写已开始在电子计算机产业中得到广泛应用。尽管与早期相比，“中央处理器”在物理形态、设计制造和具体任务的执行上有了极大的发展，但是其基本的操作原理一直没有改变。\\n早期的中央处理器通常是为大型及特定应用的计算机而定制。但是，这种昂贵的为特定应用定制CPU的方法很大程度上已经让位于开发便宜、标准化、适用于一个或多个目的的处理器类。这个标准化趋势始于由单个晶体管组成的大型机和微机年代，随着集成电路的出现而加速。IC使得更为复杂的中央处理器可以在很小的空间中设计和制造（在微米的數量级）。中央处理器的标准化和小型化都使这一类電子零件在现代生活中的普及程度越來越高。现代处理器出现在包括从汽车、手机到儿童玩具在内的各种物品中。',\n",
       " 'source': 'https://zh.wikipedia.org/wiki/%E4%B8%AD%E5%A4%AE%E5%A4%84%E7%90%86%E5%99%A8'}"
      ]
     },
     "execution_count": 9,
     "metadata": {},
     "output_type": "execute_result"
    }
   ],
   "source": [
    "docs[0].metadata  # meta-information of the Document"
   ]
  },
  {
   "cell_type": "code",
   "execution_count": 12,
   "metadata": {},
   "outputs": [],
   "source": [
    "docs = wikipedia_retriever.get_relevant_documents(query=\"GPU\")"
   ]
  },
  {
   "cell_type": "code",
   "execution_count": 13,
   "metadata": {},
   "outputs": [
    {
     "data": {
      "text/plain": [
       "{'title': '圖形處理器',\n",
       " 'summary': '圖形處理器（英語：Graphics Processing Unit，縮寫：GPU），又稱顯示核心（display core）、視覺處理器（video processor）、顯示晶片（display chip）或圖形晶片（graphics chip），是一種專門在個人電腦、工作站、遊戲機和一些行動裝置（如平板電腦、智慧型手機等）上執行繪圖運算工作的微處理器。以图形处理器为核心的主板扩展卡也称显示卡或“显卡”。\\n圖形處理器是NVIDIA公司（NVIDIA）在1999年8月發表NVIDIA GeForce 256（GeForce 256）繪圖處理晶片時首先提出的概念，在此之前，電腦中處理影像輸出的顯示晶片，通常很少被視為是一個獨立的運算單元。而對手冶天科技（ATi）亦提出視覺處理器（Visual Processing Unit）概念。圖形處理器使顯示卡减少對中央處理器（CPU）的依赖，並分擔部分原本是由中央處理器所擔當的工作，尤其是在進行三維繪圖運算時，功效更加明顯。圖形處理器所採用的核心技術有硬體座標轉換與光源、立體環境材質貼圖和頂點混合、纹理壓缩和凹凸映射貼圖、雙重纹理四像素256位渲染引擎等。 \\n圖形處理器可單獨與專用電路板以及附屬組件組成顯示卡，或單獨一片晶片直接內嵌入到主機板上，或者內建於主機板的北橋晶片中，現在也有內建於CPU上組成SoC的。個人電腦領域中，在2007年，90%以上的新型桌上型電腦和筆記型電腦擁有嵌入式繪圖晶片，但是在效能上往往低於不少獨立顯示卡。但2009年以後，AMD和英特爾都各自大力發展內建於中央處理器內的高效能整合式圖形處理核心，它們的效能在2012年時已經勝於那些低階獨立顯示卡，這使得不少低階的獨立顯示卡逐漸失去市場需求，兩大個人電腦圖形處理器研發巨頭中，AMD以AMD APU產品線取代旗下大部分的低階獨立顯示核心產品線。而在手持裝置領域上，隨著一些如平板電腦等裝置對圖形處理能力的需求越來越高，不少廠商像是高通（Qualcomm）、PowerVR、ARM、NVIDIA等，也在這個領域「大顯身手」。\\nGPU不同于传统的CPU，如Intel i5或i7处理器，其内核数量较少，专为通用计算而设计。相反，GPU是一种特殊类型的处理器，具有数百或数千个内核，经过优化，可并行运行大量计算。虽然GPU在游戏中以3D渲染而闻名，但它们对运行分析、深度学习和机器学习算法尤其有用。GPU允许某些计算比传统CPU上运行相同的计算速度快10倍至100倍。',\n",
       " 'source': 'https://zh.wikipedia.org/wiki/%E5%9C%96%E5%BD%A2%E8%99%95%E7%90%86%E5%99%A8'}"
      ]
     },
     "execution_count": 13,
     "metadata": {},
     "output_type": "execute_result"
    }
   ],
   "source": [
    "docs[0].metadata  # meta-information of the Document"
   ]
  },
  {
   "cell_type": "markdown",
   "metadata": {},
   "source": [
    "## QA on facts"
   ]
  },
  {
   "cell_type": "code",
   "execution_count": 3,
   "metadata": {},
   "outputs": [],
   "source": [
    "import os\n",
    "os.environ[\"OPENAI_API_KEY\"] = \"your_openai_key\""
   ]
  },
  {
   "cell_type": "code",
   "execution_count": 4,
   "metadata": {},
   "outputs": [
    {
     "data": {
      "text/plain": [
       "WikipediaRetriever(wiki_client=<module 'wikipedia' from 'c:\\\\Users\\\\a4022\\\\anaconda3\\\\envs\\\\gpu\\\\lib\\\\site-packages\\\\wikipedia\\\\__init__.py'>, lang='zh')"
      ]
     },
     "execution_count": 4,
     "metadata": {},
     "output_type": "execute_result"
    }
   ],
   "source": [
    "wikipedia_retriever"
   ]
  },
  {
   "cell_type": "code",
   "execution_count": 5,
   "metadata": {},
   "outputs": [],
   "source": [
    "from langchain.chains import ConversationalRetrievalChain\n",
    "from langchain_openai import ChatOpenAI\n",
    "\n",
    "model = ChatOpenAI(model_name=\"gpt-3.5-turbo-1106\")\n",
    "qa = ConversationalRetrievalChain.from_llm(model, retriever=wikipedia_retriever)"
   ]
  },
  {
   "cell_type": "code",
   "execution_count": 6,
   "metadata": {},
   "outputs": [
    {
     "data": {
      "text/plain": [
       "ConversationalRetrievalChain(combine_docs_chain=StuffDocumentsChain(llm_chain=LLMChain(prompt=ChatPromptTemplate(input_variables=['context', 'question'], messages=[SystemMessagePromptTemplate(prompt=PromptTemplate(input_variables=['context'], template=\"Use the following pieces of context to answer the user's question. \\nIf you don't know the answer, just say that you don't know, don't try to make up an answer.\\n----------------\\n{context}\")), HumanMessagePromptTemplate(prompt=PromptTemplate(input_variables=['question'], template='{question}'))]), llm=ChatOpenAI(client=<openai.resources.chat.completions.Completions object at 0x000001E967FCC970>, async_client=<openai.resources.chat.completions.AsyncCompletions object at 0x000001E967FD2E50>, model_name='gpt-3.5-turbo-1106', openai_api_key=SecretStr('**********'), openai_proxy='')), document_variable_name='context'), question_generator=LLMChain(prompt=PromptTemplate(input_variables=['chat_history', 'question'], template='Given the following conversation and a follow up question, rephrase the follow up question to be a standalone question, in its original language.\\n\\nChat History:\\n{chat_history}\\nFollow Up Input: {question}\\nStandalone question:'), llm=ChatOpenAI(client=<openai.resources.chat.completions.Completions object at 0x000001E967FCC970>, async_client=<openai.resources.chat.completions.AsyncCompletions object at 0x000001E967FD2E50>, model_name='gpt-3.5-turbo-1106', openai_api_key=SecretStr('**********'), openai_proxy='')), retriever=WikipediaRetriever(wiki_client=<module 'wikipedia' from 'c:\\\\Users\\\\a4022\\\\anaconda3\\\\envs\\\\gpu\\\\lib\\\\site-packages\\\\wikipedia\\\\__init__.py'>, lang='zh'))"
      ]
     },
     "execution_count": 6,
     "metadata": {},
     "output_type": "execute_result"
    }
   ],
   "source": [
    "qa"
   ]
  },
  {
   "cell_type": "code",
   "execution_count": 10,
   "metadata": {},
   "outputs": [
    {
     "name": "stdout",
     "output_type": "stream",
     "text": [
      "-> **Question**: 請給我最新的GPU資訊 \n",
      "\n",
      "**Answer**: 很抱歉，我目前沒有最新的GPU資訊。建議您查看最新的科技新聞或訪問GPU製造商的官方網站以獲取最新的資訊。 \n",
      "\n"
     ]
    }
   ],
   "source": [
    "questions = [\n",
    "    \"請給我最新的GPU資訊\"\n",
    "]\n",
    "chat_history = []\n",
    "\n",
    "for question in questions:\n",
    "    result = qa({\"question\": question, \"chat_history\": chat_history})\n",
    "    chat_history.append((question, result[\"answer\"]))\n",
    "    print(f\"-> **Question**: {question} \\n\")\n",
    "    print(f\"**Answer**: {result['answer']} \\n\")"
   ]
  },
  {
   "cell_type": "code",
   "execution_count": 19,
   "metadata": {},
   "outputs": [
    {
     "name": "stderr",
     "output_type": "stream",
     "text": [
      "c:\\Users\\a4022\\anaconda3\\envs\\gpu\\lib\\site-packages\\langchain_core\\_api\\deprecation.py:117: LangChainDeprecationWarning: The function `__call__` was deprecated in LangChain 0.1.0 and will be removed in 0.2.0. Use invoke instead.\n",
      "  warn_deprecated(\n"
     ]
    },
    {
     "name": "stdout",
     "output_type": "stream",
     "text": [
      "-> **Question**: 請用繁體中文回答以下電腦相關問題 \n",
      "\n",
      "**Answer**: 抱歉，我無法回答有關電腦的問題。 \n",
      "\n",
      "-> **Question**: 什麼是CPU? \n",
      "\n",
      "**Answer**: CPU是计算机的中央处理器，全称为Central Processing Unit，是计算机系统中的核心部件之一。它主要负责执行指令、进行数据处理和控制计算机的各个部件。CPU的性能对计算机整体的运行速度和效率有很大的影响。 \n",
      "\n",
      "-> **Question**: 現在CPU比較知名的品牌有哪些? \n",
      "\n",
      "**Answer**: 目前較知名的CPU品牌包括英特爾（Intel）和AMD。 \n",
      "\n",
      "-> **Question**: 可以去哪裡購買?請提供購買連結 \n",
      "\n",
      "**Answer**: 抱歉，我無法提供購買連結。你可以在電腦專賣店、網路購物平台或電子產品零售商那裡購買CPU。希望你能找到你需要的產品！ \n",
      "\n"
     ]
    }
   ],
   "source": [
    "questions = [\n",
    "    \"請用繁體中文回答以下電腦相關問題\",\n",
    "    \"什麼是CPU?\",\n",
    "    \"現在CPU比較知名的品牌有哪些?\",\n",
    "    \"可以去哪裡購買?請提供購買連結\",\n",
    "]\n",
    "chat_history = []\n",
    "\n",
    "for question in questions:\n",
    "    result = qa({\"question\": question, \"chat_history\": chat_history})\n",
    "    chat_history.append((question, result[\"answer\"]))\n",
    "    print(f\"-> **Question**: {question} \\n\")\n",
    "    print(f\"**Answer**: {result['answer']} \\n\")"
   ]
  },
  {
   "cell_type": "code",
   "execution_count": 20,
   "metadata": {},
   "outputs": [
    {
     "name": "stdout",
     "output_type": "stream",
     "text": [
      "-> **Question**: 我現在是大學生，想要寫報告、文書處理的機器 \n",
      "\n",
      "**Answer**: 我不清楚是否有一款特定的文書處理機器是適合大學生寫報告的。你可以考慮使用電腦或平板電腦，並安裝相應的文書處理軟件，例如Microsoft Word或Google Docs。这些軟件都可以幫助你編寫、編輯和格式化報告、論文和其他文書。 \n",
      "\n",
      "-> **Question**: CPU是什麼 \n",
      "\n",
      "**Answer**: CPU是中央處理器的英文縮寫，也稱為處理器或微處理器。它是一種位於電腦主機板上的晶片，負責執行電腦程序中的指令，控制和處理數據，以及協調各種元件之間的操作。CPU是電腦系統中最重要的部件之一，可以說是電腦的大腦，負責處理所有的計算任務。 \n",
      "\n",
      "-> **Question**: 請告訴我中央處理器的發展史? \n",
      "\n",
      "**Answer**: 很抱歉，我不知道中央處理器的發展史。 \n",
      "\n",
      "-> **Question**: 能介紹一下 AMD【6核】Ryzen5 5500GT這款 CPU的優點嗎? \n",
      "\n",
      "**Answer**: 抱歉，我無法提供有關這款特定 AMD Ryzen5 5500GT CPU 的資訊。 \n",
      "\n"
     ]
    }
   ],
   "source": [
    "questions = [\n",
    "    \"我現在是大學生，想要寫報告、文書處理的機器\",\n",
    "    \"CPU是什麼\",\n",
    "    \"請告訴我中央處理器的發展史?\",\n",
    "    \"能介紹一下 AMD【6核】Ryzen5 5500GT這款 CPU的優點嗎?\",\n",
    "]\n",
    "chat_history = []\n",
    "\n",
    "for question in questions:\n",
    "    result = qa({\"question\": question, \"chat_history\": chat_history})\n",
    "    chat_history.append((question, result[\"answer\"]))\n",
    "    print(f\"-> **Question**: {question} \\n\")\n",
    "    print(f\"**Answer**: {result['answer']} \\n\")"
   ]
  }
 ],
 "metadata": {
  "kernelspec": {
   "display_name": "gpu",
   "language": "python",
   "name": "python3"
  },
  "language_info": {
   "codemirror_mode": {
    "name": "ipython",
    "version": 3
   },
   "file_extension": ".py",
   "mimetype": "text/x-python",
   "name": "python",
   "nbconvert_exporter": "python",
   "pygments_lexer": "ipython3",
   "version": "3.7.4"
  }
 },
 "nbformat": 4,
 "nbformat_minor": 2
}
