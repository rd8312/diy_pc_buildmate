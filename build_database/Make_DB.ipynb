{
 "cells": [
  {
   "cell_type": "code",
   "execution_count": null,
   "metadata": {},
   "outputs": [],
   "source": [
    "# if __name__ == '__main__':\n",
    "#     import argparse\n",
    "    \n",
    "#     parser = argparse.ArgumentParser(description='')\n",
    "#     parser.add_argument('--databaset_name', dest='db_path')\n",
    "#     parameter_args = parser.parse_args()\n",
    "\n",
    "#     db_path = parameter_args.db_path"
   ]
  },
  {
   "cell_type": "code",
   "execution_count": 1,
   "metadata": {},
   "outputs": [
    {
     "name": "stdout",
     "output_type": "stream",
     "text": [
      "Opened database successfully\n"
     ]
    }
   ],
   "source": [
    "# 建立資料庫\n",
    "import sqlite3  \n",
    "  \n",
    "db_path = '../data/small_db.db'\n",
    "conn = sqlite3.connect(db_path)  \n",
    "  \n",
    "print(\"Opened database successfully\")  "
   ]
  },
  {
   "cell_type": "code",
   "execution_count": 2,
   "metadata": {},
   "outputs": [
    {
     "data": {
      "text/plain": [
       "<sqlite3.Cursor at 0x7fbad40896c0>"
      ]
     },
     "execution_count": 2,
     "metadata": {},
     "output_type": "execute_result"
    }
   ],
   "source": [
    "# 建立表格 \n",
    "cursor = conn.cursor()\n",
    "\n",
    "table_name = 'Product'\n",
    "conn.execute(f'''CREATE TABLE {table_name} \n",
    "       (ID INT PRIMARY KEY     NOT NULL, \n",
    "       NAME          TEXT      NOT NULL, \n",
    "       PRICE         INT, \n",
    "       COMPANY         TEXT);''')  "
   ]
  },
  {
   "cell_type": "code",
   "execution_count": 3,
   "metadata": {},
   "outputs": [
    {
     "name": "stdout",
     "output_type": "stream",
     "text": [
      "Opened database successfully\n",
      "Records inserted successfully\n"
     ]
    }
   ],
   "source": [
    "# 拉資料進表格\n",
    "import sqlite3  \n",
    "  \n",
    "conn = sqlite3.connect(db_path)  \n",
    "print(\"Opened database successfully\")  \n",
    "\n",
    "conn.execute(f\"INSERT INTO {table_name} (ID,NAME,PRICE,COMPANY) VALUES (1, 'B760M-K-CSM', 10590, '華碩')\")\n",
    "conn.execute(f\"INSERT INTO {table_name} (ID,NAME,PRICE,COMPANY) VALUES (2, 'H610M-E',2290,'微星')\")\n",
    "conn.execute(f\"INSERT INTO {table_name} (ID,NAME,PRICE,COMPANY) VALUES (3, 'B760M-D2H',3090,'技嘉')\")\n",
    "conn.execute(f\"INSERT INTO {table_name} (ID,NAME,PRICE,COMPANY) VALUES (4, 'H770-PRO',6590,'華碩')\")\n",
    "\n",
    "conn.execute(f\"INSERT INTO {table_name} (ID,NAME,PRICE,COMPANY) VALUES (5, 'Kingston-Beast-16GB',1520,'金士頓')\")\n",
    "conn.execute(f\"INSERT INTO {table_name} (ID,NAME,PRICE,COMPANY) VALUES (6, 'ADATA-16GB',1599,'威剛')\")\n",
    "conn.execute(f\"INSERT INTO {table_name} (ID,NAME,PRICE,COMPANY) VALUES (7, 'Crucial-8G',729,'美光')\")\n",
    "conn.execute(f\"INSERT INTO {table_name} (ID,NAME,PRICE,COMPANY) VALUES (8, 'Crucial-32GB',2699,'美光')\")\n",
    "\n",
    "conn.execute(f\"INSERT INTO {table_name} (ID,NAME,PRICE,COMPANY) VALUES (9, 'i7-14900K',20400,'Intel')\")\n",
    "conn.execute(f\"INSERT INTO {table_name} (ID,NAME,PRICE,COMPANY) VALUES (10, 'i7-14700KF',13200,'Intel')\") \n",
    "conn.execute(f\"INSERT INTO {table_name} (ID,NAME,PRICE,COMPANY) VALUES (11, 'R5-7600X',7950,'AMD')\") \n",
    "conn.execute(f\"INSERT INTO {table_name} (ID,NAME,PRICE,COMPANY) VALUES (12, 'R9-7900X',15150,'ADM')\") \n",
    "\n",
    "conn.execute(f\"INSERT INTO {table_name} (ID,NAME,PRICE,COMPANY) VALUES (13, 'ZOTAC-GT730',2350,'ZOTAC')\")\n",
    "conn.execute(f\"INSERT INTO {table_name} (ID,NAME,PRICE,COMPANY) VALUES (14, 'MSI-GT710',1790,'微星')\")\n",
    "conn.execute(f\"INSERT INTO {table_name} (ID,NAME,PRICE,COMPANY) VALUES (15, 'GIGABYTE-RTX4070Ti',24900,'技嘉')\")\n",
    "\n",
    "conn.commit()  \n",
    "print(\"Records inserted successfully\")  \n",
    "conn.close()  "
   ]
  },
  {
   "cell_type": "code",
   "execution_count": null,
   "metadata": {},
   "outputs": [],
   "source": []
  }
 ],
 "metadata": {
  "kernelspec": {
   "display_name": "llm",
   "language": "python",
   "name": "python3"
  },
  "language_info": {
   "codemirror_mode": {
    "name": "ipython",
    "version": 3
   },
   "file_extension": ".py",
   "mimetype": "text/x-python",
   "name": "python",
   "nbconvert_exporter": "python",
   "pygments_lexer": "ipython3",
   "version": "3.10.13"
  }
 },
 "nbformat": 4,
 "nbformat_minor": 2
}
