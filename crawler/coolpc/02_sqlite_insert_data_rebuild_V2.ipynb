{
 "cells": [
  {
   "cell_type": "markdown",
   "id": "d6098b53-fdd1-4165-9ac2-298a7d6f8a53",
   "metadata": {},
   "source": [
    "### 使用流程\n",
    "1. 建立Insert、Clear等各項function\n",
    "2. 建立資料庫、表格"
   ]
  },
  {
   "cell_type": "code",
   "execution_count": 2,
   "id": "73de1514-33dc-4a45-990c-ea63532eba53",
   "metadata": {},
   "outputs": [],
   "source": [
    "import pandas as pd\n",
    "import requests\n",
    "from bs4 import BeautifulSoup\n",
    "import re\n",
    "from datetime import datetime\n",
    "import warnings\n",
    "import sqlite3  \n",
    "output_path='./output/cut/'\n",
    "db_name = './data/sqlchain.db'\n",
    "conn = sqlite3.connect(db_name)  "
   ]
  },
  {
   "cell_type": "code",
   "execution_count": 3,
   "id": "740fd25a-ceae-4462-85fe-24fd85bd96af",
   "metadata": {},
   "outputs": [],
   "source": [
    "# 基本設定\n",
    "pd.set_option('display.max_columns', None)\n",
    "pd.set_option('display.max_rows', None)\n",
    "pd.set_option('display.float_format',lambda x: '%.2f' %x)\n",
    "warnings.filterwarnings(\"ignore\")"
   ]
  },
  {
   "cell_type": "code",
   "execution_count": 4,
   "id": "2ba57f05-4619-4e52-b8d6-32a37b07bd46",
   "metadata": {},
   "outputs": [],
   "source": [
    "# Insert Data\n",
    "def insertTable(insert_table, records_table):\n",
    "    # 直接將DataFrame轉換成元组列表\n",
    "    records = [tuple(x) for x in records_table.values]\n",
    "\n",
    "    conn = sqlite3.connect(db_name)\n",
    "    try:\n",
    "        # 假設DataFrame的列名與資料表的列名一致\n",
    "        columns = \",\".join(records_table.columns)\n",
    "        placeholders = \", \".join([\"?\"] * len(records_table.columns))\n",
    "        insert_data_sql = f\"INSERT INTO {insert_table} ({columns}) VALUES ({placeholders})\"\n",
    "        \n",
    "        conn.executemany(insert_data_sql, records)\n",
    "        conn.commit()\n",
    "    except sqlite3.Error as error:\n",
    "        print(error)\n",
    "    finally:\n",
    "        conn.close()\n"
   ]
  },
  {
   "cell_type": "code",
   "execution_count": 5,
   "id": "abdb6148-1691-4b42-91b2-a969dd8c6625",
   "metadata": {},
   "outputs": [],
   "source": [
    "# Clear Data\n",
    "def clearTable(db_name, table_name):\n",
    "    \"\"\"\n",
    "    清空指定SQLite資料表中的所有數據。\n",
    "\n",
    "    参数:\n",
    "    db_name (str): 資料表文件名。\n",
    "    table_name (str): 要清空的表名。\n",
    "    \"\"\"\n",
    "    try:\n",
    "        conn = sqlite3.connect(db_name)\n",
    "        conn.execute(f'''DELETE FROM {table_name};''')\n",
    "        conn.commit()\n",
    "    except sqlite3.Error as error:\n",
    "        print(f\"error: {error}\")\n",
    "    finally:\n",
    "        conn.close()\n"
   ]
  },
  {
   "cell_type": "markdown",
   "id": "4f7f81a3-640b-4751-9c3e-4d5a4d728e0d",
   "metadata": {},
   "source": [
    "### Insert CPU 的資料"
   ]
  },
  {
   "cell_type": "code",
   "execution_count": 13,
   "id": "c489f1c1-906c-44b2-a1eb-eff567699db7",
   "metadata": {},
   "outputs": [],
   "source": [
    "table_name='cpu'\n",
    "clearTable(db_name, table_name)"
   ]
  },
  {
   "cell_type": "code",
   "execution_count": 14,
   "id": "8f9513d5-bcb3-4688-97c7-d6caf782ee77",
   "metadata": {},
   "outputs": [],
   "source": [
    "#讀取資料\n",
    "df_cpu=pd.read_csv(output_path+'cpu_cut_v2.csv')\n",
    "df_cpu.drop(columns=['name','class','model'],inplace=True)\n",
    "df_cpu.rename(columns={'cut_name':'name'},inplace=True)\n",
    "#插入資料\n",
    "insertTable('cpu', df_cpu)"
   ]
  },
  {
   "cell_type": "markdown",
   "id": "f0e18a2a-634e-435c-b7fb-ae4650009f7d",
   "metadata": {},
   "source": [
    "### Insert GPU 的資料"
   ]
  },
  {
   "cell_type": "code",
   "execution_count": 104,
   "id": "e7b48a1b-cbf3-4950-b318-b43e46dc3461",
   "metadata": {},
   "outputs": [],
   "source": [
    "# 清空資料(這邊是為了避免資料因為爬蟲出現重複，所以先清空table全部資料)\n",
    "table_name='gpu'\n",
    "clearTable(db_name, table_name)"
   ]
  },
  {
   "cell_type": "code",
   "execution_count": 105,
   "id": "72a2f052-67bb-49a6-aec9-7c55a7e69e59",
   "metadata": {},
   "outputs": [],
   "source": [
    "#清理一下Brand的資料(只包含Nvidia、AMD)\n",
    "def check_and_set_brand(row):\n",
    "    # 檢查 MODEL 是否包含特定字眼，並相應設置 BRAND\n",
    "    if any(keyword in row['model'] for keyword in ['GT', 'NVIDIA', 'RTX']):\n",
    "        return 'Nvidia'\n",
    "    elif row['model'].startswith('RX'):\n",
    "        return 'AMD'\n",
    "    else:\n",
    "        return row['brand']  # 保留原有值\n",
    "\n"
   ]
  },
  {
   "cell_type": "code",
   "execution_count": 106,
   "id": "420c12e8-5809-44f8-8125-00f4ca1e31c5",
   "metadata": {},
   "outputs": [
    {
     "name": "stdout",
     "output_type": "stream",
     "text": [
      "(270, 14)\n",
      "(253, 11)\n"
     ]
    },
    {
     "data": {
      "text/html": [
       "<div>\n",
       "<style scoped>\n",
       "    .dataframe tbody tr th:only-of-type {\n",
       "        vertical-align: middle;\n",
       "    }\n",
       "\n",
       "    .dataframe tbody tr th {\n",
       "        vertical-align: top;\n",
       "    }\n",
       "\n",
       "    .dataframe thead th {\n",
       "        text-align: right;\n",
       "    }\n",
       "</style>\n",
       "<table border=\"1\" class=\"dataframe\">\n",
       "  <thead>\n",
       "    <tr style=\"text-align: right;\">\n",
       "      <th></th>\n",
       "      <th>price</th>\n",
       "      <th>etl_date</th>\n",
       "      <th>model</th>\n",
       "      <th>brand</th>\n",
       "      <th>memory</th>\n",
       "      <th>memory_value</th>\n",
       "      <th>memory_unit</th>\n",
       "      <th>corefrequency_value</th>\n",
       "      <th>corefrequency_unit</th>\n",
       "      <th>ddr</th>\n",
       "      <th>name</th>\n",
       "    </tr>\n",
       "  </thead>\n",
       "  <tbody>\n",
       "    <tr>\n",
       "      <th>1</th>\n",
       "      <td>1690</td>\n",
       "      <td>2024-03-17</td>\n",
       "      <td>GT710</td>\n",
       "      <td>Nvidia</td>\n",
       "      <td>2G</td>\n",
       "      <td>2.00</td>\n",
       "      <td>G</td>\n",
       "      <td>954.00</td>\n",
       "      <td>MHz</td>\n",
       "      <td>3.00</td>\n",
       "      <td>華碩 GT710-SL-2GD3-BRK-EVO</td>\n",
       "    </tr>\n",
       "    <tr>\n",
       "      <th>2</th>\n",
       "      <td>1790</td>\n",
       "      <td>2024-03-17</td>\n",
       "      <td>GT710</td>\n",
       "      <td>Nvidia</td>\n",
       "      <td>2G</td>\n",
       "      <td>2.00</td>\n",
       "      <td>G</td>\n",
       "      <td>954.00</td>\n",
       "      <td>MHz</td>\n",
       "      <td>5.00</td>\n",
       "      <td>華碩 GT710-SL-2GD5-BRK-EVO</td>\n",
       "    </tr>\n",
       "    <tr>\n",
       "      <th>4</th>\n",
       "      <td>1450</td>\n",
       "      <td>2024-03-17</td>\n",
       "      <td>GT710</td>\n",
       "      <td>Nvidia</td>\n",
       "      <td>1G</td>\n",
       "      <td>1.00</td>\n",
       "      <td>G</td>\n",
       "      <td>954.00</td>\n",
       "      <td>MHz</td>\n",
       "      <td>3.00</td>\n",
       "      <td>微星 GT710 1GD3H LP</td>\n",
       "    </tr>\n",
       "    <tr>\n",
       "      <th>5</th>\n",
       "      <td>1790</td>\n",
       "      <td>2024-03-17</td>\n",
       "      <td>GT710</td>\n",
       "      <td>Nvidia</td>\n",
       "      <td>2G</td>\n",
       "      <td>2.00</td>\n",
       "      <td>G</td>\n",
       "      <td>954.00</td>\n",
       "      <td>MHz</td>\n",
       "      <td>3.00</td>\n",
       "      <td>微星 GT710 2GD3H LP</td>\n",
       "    </tr>\n",
       "    <tr>\n",
       "      <th>6</th>\n",
       "      <td>1388</td>\n",
       "      <td>2024-03-17</td>\n",
       "      <td>GT710</td>\n",
       "      <td>Nvidia</td>\n",
       "      <td>1GB</td>\n",
       "      <td>1.00</td>\n",
       "      <td>GB</td>\n",
       "      <td>954.00</td>\n",
       "      <td>MHz</td>\n",
       "      <td>3.00</td>\n",
       "      <td>INNO3D GT710 1GB DDR3</td>\n",
       "    </tr>\n",
       "  </tbody>\n",
       "</table>\n",
       "</div>"
      ],
      "text/plain": [
       "   price    etl_date  model   brand memory  memory_value memory_unit  \\\n",
       "1   1690  2024-03-17  GT710  Nvidia     2G          2.00           G   \n",
       "2   1790  2024-03-17  GT710  Nvidia     2G          2.00           G   \n",
       "4   1450  2024-03-17  GT710  Nvidia     1G          1.00           G   \n",
       "5   1790  2024-03-17  GT710  Nvidia     2G          2.00           G   \n",
       "6   1388  2024-03-17  GT710  Nvidia    1GB          1.00          GB   \n",
       "\n",
       "   corefrequency_value corefrequency_unit  ddr                      name  \n",
       "1               954.00                MHz 3.00  華碩 GT710-SL-2GD3-BRK-EVO  \n",
       "2               954.00                MHz 5.00  華碩 GT710-SL-2GD5-BRK-EVO  \n",
       "4               954.00                MHz 3.00         微星 GT710 1GD3H LP  \n",
       "5               954.00                MHz 3.00         微星 GT710 2GD3H LP  \n",
       "6               954.00                MHz 3.00     INNO3D GT710 1GB DDR3  "
      ]
     },
     "execution_count": 106,
     "metadata": {},
     "output_type": "execute_result"
    }
   ],
   "source": [
    "#讀取資料\n",
    "df_gpu=pd.read_csv(output_path+'gpu_cut.csv')\n",
    "print(df_gpu.shape)\n",
    "df_gpu.drop(columns=['class','cudacores','name'],inplace=True)\n",
    "df_gpu['brand'] = df_gpu.apply(check_and_set_brand, axis=1)\n",
    "df_gpu.rename(columns={'cut_name':'name'},inplace=True)\n",
    "df_gpu=df_gpu.loc[(df_gpu['brand']=='Nvidia')|(df_gpu['brand']=='AMD')]\n",
    "print(df_gpu.shape)\n",
    "df_gpu.head()"
   ]
  },
  {
   "cell_type": "code",
   "execution_count": 107,
   "id": "a13b1500-048c-40b0-8201-1b9606d4a668",
   "metadata": {},
   "outputs": [],
   "source": [
    "#插入資料\n",
    "insertTable('gpu', df_gpu)"
   ]
  },
  {
   "cell_type": "markdown",
   "id": "d95ce5ac-054a-492d-bb57-1e506c83ace5",
   "metadata": {},
   "source": [
    "# Insert 硬碟的資料"
   ]
  },
  {
   "cell_type": "code",
   "execution_count": 62,
   "id": "e217a592-81f3-43d8-8514-acc100318aa1",
   "metadata": {},
   "outputs": [],
   "source": [
    "table_name='hdd'\n",
    "clearTable(db_name, table_name)"
   ]
  },
  {
   "cell_type": "code",
   "execution_count": 63,
   "id": "6303013b-aa89-45c2-8f4c-3cde85e2933a",
   "metadata": {},
   "outputs": [],
   "source": [
    "df_hdd=pd.read_csv(output_path+'hdd_cut.csv')\n",
    "df_hdd.drop(columns=['id','class','capacity','model','name'],inplace=True)\n",
    "df_hdd.rename(columns={'cut_name':'name'},inplace=True)\n",
    "#插入資料\n",
    "insertTable('hdd', df_hdd)"
   ]
  },
  {
   "cell_type": "markdown",
   "id": "81356aba-0e4c-4948-a862-e6d1e0270def",
   "metadata": {},
   "source": [
    "## Insert Ram的資料"
   ]
  },
  {
   "cell_type": "code",
   "execution_count": 29,
   "id": "f73f5df5-6fd3-4ef6-a474-a81ae48bb682",
   "metadata": {},
   "outputs": [],
   "source": [
    "table_name='ram'\n",
    "clearTable(db_name, table_name)"
   ]
  },
  {
   "cell_type": "code",
   "execution_count": 30,
   "id": "7d0e0cef-9d94-4280-b1ad-29e880642f4e",
   "metadata": {},
   "outputs": [
    {
     "name": "stdout",
     "output_type": "stream",
     "text": [
      "(308, 10)\n",
      "(303, 8)\n"
     ]
    }
   ],
   "source": [
    "df_ram=pd.read_csv(output_path+'ram_cut.csv')\n",
    "#刪除容量是負的贓資料\n",
    "print(df_ram.shape)\n",
    "df_ram=df_ram.loc[df_ram['capacity_value']>0]\n",
    "df_ram.drop(columns=['class','name'],inplace=True)\n",
    "df_ram.rename(columns={'cut_name':'name'},inplace=True)\n",
    "print(df_ram.shape)\n",
    "#插入資料\n",
    "insertTable('ram', df_ram)"
   ]
  },
  {
   "cell_type": "markdown",
   "id": "b9b7a282-1687-45fc-a955-7234581d37a4",
   "metadata": {},
   "source": [
    "# Insert 散熱器的資料"
   ]
  },
  {
   "cell_type": "code",
   "execution_count": 57,
   "id": "df256013-c657-4bcf-ba98-30d950ae5ba7",
   "metadata": {},
   "outputs": [],
   "source": [
    "table_name='radiator'\n",
    "clearTable(db_name, table_name)"
   ]
  },
  {
   "cell_type": "code",
   "execution_count": 58,
   "id": "7a024fd4-0a8f-4934-93cf-01d987a7973d",
   "metadata": {},
   "outputs": [],
   "source": [
    "df_radiator=pd.read_csv(output_path+'cool_cut.csv')\n",
    "df_radiator.drop(columns=['class','model','name'],inplace=True)\n",
    "df_radiator.rename(columns={'cut_name':'name'},inplace=True)\n",
    "#插入資料\n",
    "insertTable('radiator', df_radiator)"
   ]
  },
  {
   "cell_type": "markdown",
   "id": "4b72acbe-d342-4e7d-975e-7e54c905894e",
   "metadata": {},
   "source": [
    "## 處理機殼的資料"
   ]
  },
  {
   "cell_type": "code",
   "execution_count": 59,
   "id": "690fe0df-14ca-4720-8e4b-d8bc20922722",
   "metadata": {},
   "outputs": [],
   "source": [
    "table_name='chassis'\n",
    "clearTable(db_name, table_name)"
   ]
  },
  {
   "cell_type": "code",
   "execution_count": 60,
   "id": "a66a25ea-86cf-4b09-98ee-efdfceb5c0cb",
   "metadata": {},
   "outputs": [],
   "source": [
    "df_chassis=pd.read_csv(output_path+'chassis_cut.csv')\n",
    "df_chassis.drop(columns=['class','name'],inplace=True)\n",
    "df_chassis.rename(columns={'cut_name':'name'},inplace=True)\n",
    "#插入資料\n",
    "insertTable('chassis', df_chassis)"
   ]
  },
  {
   "cell_type": "markdown",
   "id": "8289b520-25ba-45ef-ad2b-6ce3a5f79b86",
   "metadata": {},
   "source": [
    "## 處理電源的資料 "
   ]
  },
  {
   "cell_type": "code",
   "execution_count": 175,
   "id": "c0a5f677-9d48-4ac1-9836-9575a880eac5",
   "metadata": {},
   "outputs": [],
   "source": [
    "table_name='battery'\n",
    "clearTable(db_name, table_name)"
   ]
  },
  {
   "cell_type": "code",
   "execution_count": 80,
   "id": "7b0469a8-5aec-45b0-8de5-29f424345d2d",
   "metadata": {},
   "outputs": [
    {
     "data": {
      "text/html": [
       "<div>\n",
       "<style scoped>\n",
       "    .dataframe tbody tr th:only-of-type {\n",
       "        vertical-align: middle;\n",
       "    }\n",
       "\n",
       "    .dataframe tbody tr th {\n",
       "        vertical-align: top;\n",
       "    }\n",
       "\n",
       "    .dataframe thead th {\n",
       "        text-align: right;\n",
       "    }\n",
       "</style>\n",
       "<table border=\"1\" class=\"dataframe\">\n",
       "  <thead>\n",
       "    <tr style=\"text-align: right;\">\n",
       "      <th></th>\n",
       "      <th>price</th>\n",
       "      <th>etl_date</th>\n",
       "      <th>tdp</th>\n",
       "      <th>cooling_method</th>\n",
       "      <th>model</th>\n",
       "      <th>name</th>\n",
       "    </tr>\n",
       "  </thead>\n",
       "  <tbody>\n",
       "    <tr>\n",
       "      <th>0</th>\n",
       "      <td>4990</td>\n",
       "      <td>2024-03-03</td>\n",
       "      <td>850</td>\n",
       "      <td>NaN</td>\n",
       "      <td>NaN</td>\n",
       "      <td>華碩 ROG STRIX 850W AURA Edition</td>\n",
       "    </tr>\n",
       "    <tr>\n",
       "      <th>1</th>\n",
       "      <td>2590</td>\n",
       "      <td>2024-03-03</td>\n",
       "      <td>750</td>\n",
       "      <td>NaN</td>\n",
       "      <td>NaN</td>\n",
       "      <td>美洲獅 COUGAR GEX 750W</td>\n",
       "    </tr>\n",
       "    <tr>\n",
       "      <th>2</th>\n",
       "      <td>3990</td>\n",
       "      <td>2024-03-03</td>\n",
       "      <td>1050</td>\n",
       "      <td>NaN</td>\n",
       "      <td>NaN</td>\n",
       "      <td>美洲獅 COUGAR GEX 1050W</td>\n",
       "    </tr>\n",
       "    <tr>\n",
       "      <th>3</th>\n",
       "      <td>2390</td>\n",
       "      <td>2024-03-03</td>\n",
       "      <td>750</td>\n",
       "      <td>NaN</td>\n",
       "      <td>NaN</td>\n",
       "      <td>銀欣 750W</td>\n",
       "    </tr>\n",
       "    <tr>\n",
       "      <th>4</th>\n",
       "      <td>4990</td>\n",
       "      <td>2024-03-03</td>\n",
       "      <td>1100</td>\n",
       "      <td>NaN</td>\n",
       "      <td>NaN</td>\n",
       "      <td>台達 超實在 1100W</td>\n",
       "    </tr>\n",
       "  </tbody>\n",
       "</table>\n",
       "</div>"
      ],
      "text/plain": [
       "   price    etl_date   tdp  cooling_method  model  \\\n",
       "0   4990  2024-03-03   850             NaN    NaN   \n",
       "1   2590  2024-03-03   750             NaN    NaN   \n",
       "2   3990  2024-03-03  1050             NaN    NaN   \n",
       "3   2390  2024-03-03   750             NaN    NaN   \n",
       "4   4990  2024-03-03  1100             NaN    NaN   \n",
       "\n",
       "                             name  \n",
       "0  華碩 ROG STRIX 850W AURA Edition  \n",
       "1             美洲獅 COUGAR GEX 750W  \n",
       "2            美洲獅 COUGAR GEX 1050W  \n",
       "3                         銀欣 750W  \n",
       "4                    台達 超實在 1100W  "
      ]
     },
     "execution_count": 80,
     "metadata": {},
     "output_type": "execute_result"
    }
   ],
   "source": [
    "df_battery.head()"
   ]
  },
  {
   "cell_type": "code",
   "execution_count": 77,
   "id": "778ace3c-2071-480e-9937-dc4f0f79eecf",
   "metadata": {},
   "outputs": [
    {
     "name": "stdout",
     "output_type": "stream",
     "text": [
      "table battery has no column named brand\n"
     ]
    }
   ],
   "source": [
    "df_battery=pd.read_csv(output_path+'battery_cut.csv')\n",
    "df_battery.drop(columns=['class','name','tdp','model'],inplace=True)\n",
    "df_battery.rename(columns={'cut_name':'name'},inplace=True)\n",
    "#插入資料\n",
    "insertTable('battery', df_chassis)"
   ]
  },
  {
   "cell_type": "markdown",
   "id": "a4b195d4-40df-40d7-b0bb-ac43ce291659",
   "metadata": {},
   "source": [
    "# 處理主機板的資料"
   ]
  },
  {
   "cell_type": "code",
   "execution_count": 20,
   "id": "b22a310c-e1f1-4e67-aca0-197bec4494e1",
   "metadata": {},
   "outputs": [],
   "source": [
    "table_name='mainboard'\n",
    "clearTable(db_name, table_name)"
   ]
  },
  {
   "cell_type": "code",
   "execution_count": 21,
   "id": "c500caff-e04e-4189-8693-b40275194244",
   "metadata": {},
   "outputs": [
    {
     "data": {
      "text/html": [
       "<div>\n",
       "<style scoped>\n",
       "    .dataframe tbody tr th:only-of-type {\n",
       "        vertical-align: middle;\n",
       "    }\n",
       "\n",
       "    .dataframe tbody tr th {\n",
       "        vertical-align: top;\n",
       "    }\n",
       "\n",
       "    .dataframe thead th {\n",
       "        text-align: right;\n",
       "    }\n",
       "</style>\n",
       "<table border=\"1\" class=\"dataframe\">\n",
       "  <thead>\n",
       "    <tr style=\"text-align: right;\">\n",
       "      <th></th>\n",
       "      <th>price</th>\n",
       "      <th>etl_date</th>\n",
       "      <th>brand</th>\n",
       "      <th>name</th>\n",
       "    </tr>\n",
       "  </thead>\n",
       "  <tbody>\n",
       "    <tr>\n",
       "      <th>0</th>\n",
       "      <td>399</td>\n",
       "      <td>2024-03-03</td>\n",
       "      <td>華碩</td>\n",
       "      <td>華碩 Tinker Fanless Aluminum Case</td>\n",
       "    </tr>\n",
       "    <tr>\n",
       "      <th>1</th>\n",
       "      <td>12990</td>\n",
       "      <td>2024-03-03</td>\n",
       "      <td>華碩</td>\n",
       "      <td>華碩 PRO WS W680M-ACE SE</td>\n",
       "    </tr>\n",
       "    <tr>\n",
       "      <th>2</th>\n",
       "      <td>9990</td>\n",
       "      <td>2024-03-03</td>\n",
       "      <td>華碩</td>\n",
       "      <td>華碩 PRO WS W680-ACE</td>\n",
       "    </tr>\n",
       "    <tr>\n",
       "      <th>3</th>\n",
       "      <td>39990</td>\n",
       "      <td>2024-03-03</td>\n",
       "      <td>華碩</td>\n",
       "      <td>華碩 Pro WS W790E-SAGE SE</td>\n",
       "    </tr>\n",
       "    <tr>\n",
       "      <th>4</th>\n",
       "      <td>34990</td>\n",
       "      <td>2024-03-03</td>\n",
       "      <td>Unknown</td>\n",
       "      <td>華擎 W790 WS</td>\n",
       "    </tr>\n",
       "  </tbody>\n",
       "</table>\n",
       "</div>"
      ],
      "text/plain": [
       "   price    etl_date    brand                             name\n",
       "0    399  2024-03-03       華碩  華碩 Tinker Fanless Aluminum Case\n",
       "1  12990  2024-03-03       華碩           華碩 PRO WS W680M-ACE SE\n",
       "2   9990  2024-03-03       華碩               華碩 PRO WS W680-ACE\n",
       "3  39990  2024-03-03       華碩          華碩 Pro WS W790E-SAGE SE\n",
       "4  34990  2024-03-03  Unknown                       華擎 W790 WS"
      ]
     },
     "execution_count": 21,
     "metadata": {},
     "output_type": "execute_result"
    }
   ],
   "source": [
    "df_mainboard=pd.read_csv(output_path+'motherboard_cut.csv')\n",
    "df_mainboard.drop(columns=['class','name','model','size','company'],inplace=True)\n",
    "df_mainboard.rename(columns={'cut_name':'name'},inplace=True)\n",
    "insertTable('mainboard', df_mainboard)\n",
    "df_mainboard.head()"
   ]
  },
  {
   "cell_type": "code",
   "execution_count": null,
   "id": "a9b94d87-5824-4cb6-aa88-3bdd48316231",
   "metadata": {},
   "outputs": [],
   "source": [
    "df_mainboard=pd.read_csv(output_path+'monitor_cut.csv')\n",
    "df_monitor.drop(columns=['class','name','model'],inplace=True)\n",
    "df_monitor.rename(columns={'cut_name':'name'},inplace=True)\n",
    "#插入資料\n",
    "insertTable('monitor', df_monitor)"
   ]
  },
  {
   "cell_type": "markdown",
   "id": "d6bf5b18-2b1e-4ab7-b3f9-fedceaacd978",
   "metadata": {},
   "source": [
    "### 處理螢幕的資料"
   ]
  },
  {
   "cell_type": "code",
   "execution_count": 8,
   "id": "bd2ed8da-8316-4e10-a1d3-147a5a801761",
   "metadata": {},
   "outputs": [
    {
     "data": {
      "text/html": [
       "<div>\n",
       "<style scoped>\n",
       "    .dataframe tbody tr th:only-of-type {\n",
       "        vertical-align: middle;\n",
       "    }\n",
       "\n",
       "    .dataframe tbody tr th {\n",
       "        vertical-align: top;\n",
       "    }\n",
       "\n",
       "    .dataframe thead th {\n",
       "        text-align: right;\n",
       "    }\n",
       "</style>\n",
       "<table border=\"1\" class=\"dataframe\">\n",
       "  <thead>\n",
       "    <tr style=\"text-align: right;\">\n",
       "      <th></th>\n",
       "      <th>class</th>\n",
       "      <th>name</th>\n",
       "      <th>price</th>\n",
       "      <th>etl_date</th>\n",
       "      <th>model</th>\n",
       "      <th>size</th>\n",
       "      <th>brand</th>\n",
       "      <th>company</th>\n",
       "      <th>cut_name</th>\n",
       "    </tr>\n",
       "  </thead>\n",
       "  <tbody>\n",
       "    <tr>\n",
       "      <th>0</th>\n",
       "      <td>主機板 MB</td>\n",
       "      <td>華碩 Tinker Fanless Aluminum Case 樹莓派鋁質機殼 (2/2S ...</td>\n",
       "      <td>399</td>\n",
       "      <td>2024-03-03</td>\n",
       "      <td>Unknown</td>\n",
       "      <td>Unknown</td>\n",
       "      <td>華碩</td>\n",
       "      <td>華碩</td>\n",
       "      <td>華碩 Tinker Fanless Aluminum Case</td>\n",
       "    </tr>\n",
       "    <tr>\n",
       "      <th>1</th>\n",
       "      <td>主機板 MB</td>\n",
       "      <td>華碩 PRO WS W680M-ACE SE(M-ATX/1A1H1P/雙Intel 2.5...</td>\n",
       "      <td>12990</td>\n",
       "      <td>2024-03-03</td>\n",
       "      <td>M-ACE</td>\n",
       "      <td>ATX</td>\n",
       "      <td>華碩</td>\n",
       "      <td>華碩</td>\n",
       "      <td>華碩 PRO WS W680M-ACE SE</td>\n",
       "    </tr>\n",
       "    <tr>\n",
       "      <th>2</th>\n",
       "      <td>主機板 MB</td>\n",
       "      <td>華碩 PRO WS W680-ACE(ATX/1A1H1P/雙Intel 2.5Gb/註四年...</td>\n",
       "      <td>9990</td>\n",
       "      <td>2024-03-03</td>\n",
       "      <td>Unknown</td>\n",
       "      <td>ATX</td>\n",
       "      <td>華碩</td>\n",
       "      <td>華碩</td>\n",
       "      <td>華碩 PRO WS W680-ACE</td>\n",
       "    </tr>\n",
       "    <tr>\n",
       "      <th>3</th>\n",
       "      <td>主機板 MB</td>\n",
       "      <td>華碩 Pro WS W790E-SAGE SE(EEB/8*DDR5/2*Intel 10G...</td>\n",
       "      <td>39990</td>\n",
       "      <td>2024-03-03</td>\n",
       "      <td>E-SAGE</td>\n",
       "      <td>Unknown</td>\n",
       "      <td>華碩</td>\n",
       "      <td>華碩</td>\n",
       "      <td>華碩 Pro WS W790E-SAGE SE</td>\n",
       "    </tr>\n",
       "    <tr>\n",
       "      <th>4</th>\n",
       "      <td>主機板 MB</td>\n",
       "      <td>華擎 W790 WS(EEB/8*DDR5/2*Marvell 10G+Intel 2.5G...</td>\n",
       "      <td>34990</td>\n",
       "      <td>2024-03-03</td>\n",
       "      <td>Unknown</td>\n",
       "      <td>Unknown</td>\n",
       "      <td>Unknown</td>\n",
       "      <td>Unknown</td>\n",
       "      <td>華擎 W790 WS</td>\n",
       "    </tr>\n",
       "  </tbody>\n",
       "</table>\n",
       "</div>"
      ],
      "text/plain": [
       "    class                                               name  price  \\\n",
       "0  主機板 MB  華碩 Tinker Fanless Aluminum Case 樹莓派鋁質機殼 (2/2S ...    399   \n",
       "1  主機板 MB  華碩 PRO WS W680M-ACE SE(M-ATX/1A1H1P/雙Intel 2.5...  12990   \n",
       "2  主機板 MB  華碩 PRO WS W680-ACE(ATX/1A1H1P/雙Intel 2.5Gb/註四年...   9990   \n",
       "3  主機板 MB  華碩 Pro WS W790E-SAGE SE(EEB/8*DDR5/2*Intel 10G...  39990   \n",
       "4  主機板 MB  華擎 W790 WS(EEB/8*DDR5/2*Marvell 10G+Intel 2.5G...  34990   \n",
       "\n",
       "     etl_date    model     size    brand  company  \\\n",
       "0  2024-03-03  Unknown  Unknown       華碩       華碩   \n",
       "1  2024-03-03    M-ACE      ATX       華碩       華碩   \n",
       "2  2024-03-03  Unknown      ATX       華碩       華碩   \n",
       "3  2024-03-03   E-SAGE  Unknown       華碩       華碩   \n",
       "4  2024-03-03  Unknown  Unknown  Unknown  Unknown   \n",
       "\n",
       "                          cut_name  \n",
       "0  華碩 Tinker Fanless Aluminum Case  \n",
       "1           華碩 PRO WS W680M-ACE SE  \n",
       "2               華碩 PRO WS W680-ACE  \n",
       "3          華碩 Pro WS W790E-SAGE SE  \n",
       "4                       華擎 W790 WS  "
      ]
     },
     "execution_count": 8,
     "metadata": {},
     "output_type": "execute_result"
    }
   ],
   "source": [
    "df_monitor=pd.read_csv(output_path+'monitor_cut.csv')\n",
    "df_monitor.head()"
   ]
  },
  {
   "cell_type": "code",
   "execution_count": 74,
   "id": "b4c30754-32c7-47a9-ab94-389c3aaf0fff",
   "metadata": {},
   "outputs": [],
   "source": [
    "table_name='monitor'\n",
    "clearTable(db_name, table_name)"
   ]
  },
  {
   "cell_type": "code",
   "execution_count": 75,
   "id": "f1dfd766-7e65-4df8-b804-493b13af852c",
   "metadata": {},
   "outputs": [],
   "source": [
    "df_monitor=pd.read_csv(output_path+'monitor_cut.csv')\n",
    "df_monitor.drop(columns=['class','name','model'],inplace=True)\n",
    "df_monitor.rename(columns={'cut_name':'name'},inplace=True)\n",
    "#插入資料\n",
    "insertTable('monitor', df_monitor)"
   ]
  },
  {
   "cell_type": "markdown",
   "id": "9ec39d04-e943-4701-a149-daf2c35fe017",
   "metadata": {},
   "source": [
    "## 驗證查詢"
   ]
  },
  {
   "cell_type": "code",
   "execution_count": 27,
   "id": "8bdd708b-5069-453e-864b-117799adac01",
   "metadata": {},
   "outputs": [
    {
     "data": {
      "text/html": [
       "<div>\n",
       "<style scoped>\n",
       "    .dataframe tbody tr th:only-of-type {\n",
       "        vertical-align: middle;\n",
       "    }\n",
       "\n",
       "    .dataframe tbody tr th {\n",
       "        vertical-align: top;\n",
       "    }\n",
       "\n",
       "    .dataframe thead th {\n",
       "        text-align: right;\n",
       "    }\n",
       "</style>\n",
       "<table border=\"1\" class=\"dataframe\">\n",
       "  <thead>\n",
       "    <tr style=\"text-align: right;\">\n",
       "      <th></th>\n",
       "      <th>NAME</th>\n",
       "      <th>PRICE</th>\n",
       "      <th>BRAND</th>\n",
       "      <th>ETL_DATE</th>\n",
       "      <th>module_Spec</th>\n",
       "      <th>capacity</th>\n",
       "      <th>capacity_value</th>\n",
       "      <th>capacity_unit</th>\n",
       "    </tr>\n",
       "  </thead>\n",
       "  <tbody>\n",
       "    <tr>\n",
       "      <th>0</th>\n",
       "      <td>美光Micron Crucial NB 雙通16G*2 DDR5 4800/CL40</td>\n",
       "      <td>2699</td>\n",
       "      <td>美光Micron</td>\n",
       "      <td>2024-03-03</td>\n",
       "      <td>DDR5</td>\n",
       "      <td>Unknown</td>\n",
       "      <td>-1</td>\n",
       "      <td>Unknown</td>\n",
       "    </tr>\n",
       "    <tr>\n",
       "      <th>1</th>\n",
       "      <td>美光Micron Crucial NB 雙通32G*2 DDR5 4800/CL40</td>\n",
       "      <td>5399</td>\n",
       "      <td>美光Micron</td>\n",
       "      <td>2024-03-03</td>\n",
       "      <td>DDR5</td>\n",
       "      <td>Unknown</td>\n",
       "      <td>-1</td>\n",
       "      <td>Unknown</td>\n",
       "    </tr>\n",
       "    <tr>\n",
       "      <th>2</th>\n",
       "      <td>美光Micron Crucial NB 雙通16G*2 DDR5 5600/CL46</td>\n",
       "      <td>2799</td>\n",
       "      <td>美光Micron</td>\n",
       "      <td>2024-03-03</td>\n",
       "      <td>DDR5</td>\n",
       "      <td>Unknown</td>\n",
       "      <td>-1</td>\n",
       "      <td>Unknown</td>\n",
       "    </tr>\n",
       "    <tr>\n",
       "      <th>3</th>\n",
       "      <td>美光Micron Crucial NB 雙通32G*2 DDR5 5600/CL46</td>\n",
       "      <td>5599</td>\n",
       "      <td>美光Micron</td>\n",
       "      <td>2024-03-03</td>\n",
       "      <td>DDR5</td>\n",
       "      <td>Unknown</td>\n",
       "      <td>-1</td>\n",
       "      <td>Unknown</td>\n",
       "    </tr>\n",
       "    <tr>\n",
       "      <th>4</th>\n",
       "      <td>金士頓 8G DDR3-1600</td>\n",
       "      <td>1150</td>\n",
       "      <td>金士頓</td>\n",
       "      <td>2024-03-03</td>\n",
       "      <td>DDR3</td>\n",
       "      <td>Unknown</td>\n",
       "      <td>-1</td>\n",
       "      <td>Unknown</td>\n",
       "    </tr>\n",
       "  </tbody>\n",
       "</table>\n",
       "</div>"
      ],
      "text/plain": [
       "                                         NAME  PRICE     BRAND    ETL_DATE  \\\n",
       "0  美光Micron Crucial NB 雙通16G*2 DDR5 4800/CL40   2699  美光Micron  2024-03-03   \n",
       "1  美光Micron Crucial NB 雙通32G*2 DDR5 4800/CL40   5399  美光Micron  2024-03-03   \n",
       "2  美光Micron Crucial NB 雙通16G*2 DDR5 5600/CL46   2799  美光Micron  2024-03-03   \n",
       "3  美光Micron Crucial NB 雙通32G*2 DDR5 5600/CL46   5599  美光Micron  2024-03-03   \n",
       "4                            金士頓 8G DDR3-1600   1150       金士頓  2024-03-03   \n",
       "\n",
       "  module_Spec capacity  capacity_value capacity_unit  \n",
       "0        DDR5  Unknown              -1       Unknown  \n",
       "1        DDR5  Unknown              -1       Unknown  \n",
       "2        DDR5  Unknown              -1       Unknown  \n",
       "3        DDR5  Unknown              -1       Unknown  \n",
       "4        DDR3  Unknown              -1       Unknown  "
      ]
     },
     "execution_count": 27,
     "metadata": {},
     "output_type": "execute_result"
    }
   ],
   "source": [
    "### 驗證查詢\n",
    "conn = sqlite3.connect(db_name)  \n",
    "sql1=f'''\n",
    "select *\n",
    "from ram\n",
    "order by capacity_value asc\n",
    "'''\n",
    "test=pd.read_sql(sql1,conn)\n",
    "conn.close()\n",
    "test.head()"
   ]
  },
  {
   "cell_type": "code",
   "execution_count": null,
   "id": "08d99aa1-721b-415f-80a2-455b663972aa",
   "metadata": {},
   "outputs": [],
   "source": []
  }
 ],
 "metadata": {
  "kernelspec": {
   "display_name": "Python 3 (ipykernel)",
   "language": "python",
   "name": "python3"
  },
  "language_info": {
   "codemirror_mode": {
    "name": "ipython",
    "version": 3
   },
   "file_extension": ".py",
   "mimetype": "text/x-python",
   "name": "python",
   "nbconvert_exporter": "python",
   "pygments_lexer": "ipython3",
   "version": "3.10.13"
  }
 },
 "nbformat": 4,
 "nbformat_minor": 5
}
