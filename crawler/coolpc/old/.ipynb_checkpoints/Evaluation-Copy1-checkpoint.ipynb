{
 "cells": [
  {
   "cell_type": "markdown",
   "metadata": {},
   "source": [
    "## 套件與資料載入"
   ]
  },
  {
   "cell_type": "code",
   "execution_count": 1,
   "metadata": {},
   "outputs": [],
   "source": [
    "# Import packages\n",
    "import sys\n",
    "sys.path.append('..')\n",
    "# sys.path.append('.')\n",
    "\n",
    "from tqdm import tqdm\n",
    "import re\n",
    "\n",
    "import ast\n",
    "from units import find_item, find_index\n",
    "\n",
    "import json\n",
    "import os\n",
    "\n",
    "# if __name__ == '__main__':\n",
    "#   import argparse\n",
    "    \n",
    "#     parser = argparse.ArgumentParser(description='')\n",
    "#     parser.add_argument('--config_path', dest='config_path')\n",
    "#     parameter_args = parser.parse_args()\n",
    "\n",
    "#     config_path = parameter_args.config_path\n",
    "\n",
    "config_path = 'config/Amber_config.json'\n",
    "\n",
    "with open(config_path, 'r') as f:\n",
    "    config = json.load(f)\n",
    "os.environ['OPENAI_API_KEY'] = config['OpenAI_api_key']\n",
    "\n",
    "test_dataset_path = config['test_dataset_path']\n",
    "with open(test_dataset_path, 'r') as f:\n",
    "    test_set = json.load(f)\n",
    "\n",
    "recommend_path = config['GPTs']['Retrieve']['database_path']\n",
    "with open(recommend_path, 'r') as f:\n",
    "    recommend_data = json.load(f)\n",
    "    \n",
    "only_for_classification = test_set['only_for_classification']"
   ]
  },
  {
   "cell_type": "code",
   "execution_count": 2,
   "metadata": {},
   "outputs": [],
   "source": [
    "from chains import make_chain, make_memory\n",
    "\n",
    "SQL_PROMPT = config['GPTs']['SQL']['prompt']\n",
    "RECOMMEND_PROMPT = config['GPTs']['Retrieve']['prompt']\n",
    "\n",
    "classifier_chain = make_chain(config['GPTs']['Classifier'])\n",
    "general_chain = make_chain(config['GPTs']['General'])\n",
    "db_chain = make_chain(config['GPTs']['SQL'])\n",
    "retrieve_chain = make_chain(config['GPTs']['Retrieve'])\n",
    "\n",
    "memory, memory_chain = make_memory()\n",
    "consultant_chain = make_chain(config['GPTs']['Consultant'], memory_chain)\n",
    "\n",
    "comment_chain = make_chain(config['GPTs']['Comment'])\n",
    "score_chain = make_chain(config['GPTs']['Score'])\n",
    "recommend_eva_chain = make_chain(config['GPTs']['Recommend_evaluation'])\n",
    "consultant_comment_chain = make_chain(config['GPTs']['Consultant_Comment'])"
   ]
  },
  {
   "cell_type": "markdown",
   "metadata": {},
   "source": [
    "## 預測"
   ]
  },
  {
   "cell_type": "code",
   "execution_count": 12,
   "metadata": {},
   "outputs": [
    {
     "name": "stdout",
     "output_type": "stream",
     "text": [
      "\n",
      "\n",
      "\u001b[1m> Entering new SQLDatabaseChain chain...\u001b[0m\n",
      "查Intel i5-14600K價格？如果 SQLResult 的後面沒有任何數字或資料，請回覆：查無資料。\n",
      "SQLQuery:\u001b[32;1m\u001b[1;3mSELECT \"PRICE\" \n",
      "FROM cpu \n",
      "WHERE \"NAME\" = 'Intel i5-14600K'\n",
      "LIMIT 1;\u001b[0m\n",
      "SQLResult: \u001b[33;1m\u001b[1;3m[(10200,)]\u001b[0m\n",
      "\u001b[1m> Finished chain.\u001b[0m\n"
     ]
    }
   ],
   "source": [
    "data = test_set['data_list'][2]\n",
    "\n",
    "question = data['question']\n",
    "\n",
    "question = question + SQL_PROMPT # + '不要用 MODEL 跟 BRAND 找資料，而是使用 NAME ，不要使用 LIKE 語法'\n",
    "return_data = db_chain.invoke(question)"
   ]
  },
  {
   "cell_type": "code",
   "execution_count": 32,
   "metadata": {},
   "outputs": [],
   "source": []
  },
  {
   "cell_type": "code",
   "execution_count": 18,
   "metadata": {},
   "outputs": [
    {
     "name": "stdout",
     "output_type": "stream",
     "text": [
      "data/cpu_and_gpu.db\n",
      "Empty DataFrame\n",
      "Columns: [PRICE]\n",
      "Index: []\n"
     ]
    }
   ],
   "source": [
    "import sqlite3\n",
    "import pandas as pd\n",
    "db_name = config['GPTs']['SQL']['database_path']\n",
    "print(db_name)\n",
    "conn = sqlite3.connect(db_name)  \n",
    "sql1=f'''\n",
    "SELECT \"PRICE\" \n",
    "FROM cpu \n",
    "WHERE \"NAME\" = 'Intel i5 14600KF'\n",
    "LIMIT 5;\n",
    "'''\n",
    "test=pd.read_sql(sql1,conn)\n",
    "conn.close()\n",
    "print(test)"
   ]
  },
  {
   "cell_type": "code",
   "execution_count": 19,
   "metadata": {},
   "outputs": [
    {
     "data": {
      "text/plain": [
       "{'query': 'Intel Processor 300多少錢呀？如果 SQLResult 的後面沒有任何數字或資料，請回覆：查無資料。不要用 MODEL 跟 BRAND 找資料，而是使用 NAME ，不要使用 LIKE 語法',\n",
       " 'result': ''}"
      ]
     },
     "execution_count": 19,
     "metadata": {},
     "output_type": "execute_result"
    }
   ],
   "source": [
    "return_data"
   ]
  },
  {
   "cell_type": "code",
   "execution_count": 4,
   "metadata": {},
   "outputs": [
    {
     "name": "stderr",
     "output_type": "stream",
     "text": [
      "模型預測:   0%|          | 0/6 [00:00<?, ?it/s]"
     ]
    },
    {
     "name": "stdout",
     "output_type": "stream",
     "text": [
      "\n",
      "\n",
      "\u001b[1m> Entering new SQLDatabaseChain chain...\u001b[0m\n",
      "Intel Processor 300多少錢呀？如果 SQLResult 的後面沒有任何數字或資料，請回覆：查無資料。\n",
      "SQLQuery:"
     ]
    },
    {
     "name": "stderr",
     "output_type": "stream",
     "text": [
      "模型預測:  17%|█▋        | 1/6 [00:02<00:11,  2.28s/it]"
     ]
    },
    {
     "name": "stdout",
     "output_type": "stream",
     "text": [
      "\u001b[32;1m\u001b[1;3mSELECT \"PRICE\" \n",
      "FROM cpu \n",
      "WHERE \"NAME\" = 'Intel Processor 300'\n",
      "LIMIT 1;\u001b[0m\n",
      "SQLResult: \u001b[33;1m\u001b[1;3m[(2990,)]\u001b[0m\n",
      "\u001b[1m> Finished chain.\u001b[0m\n",
      "\n",
      "\n",
      "\u001b[1m> Entering new SQLDatabaseChain chain...\u001b[0m\n",
      "請幫我查Intel i5-14400F多少錢呀？如果 SQLResult 的後面沒有任何數字或資料，請回覆：查無資料。\n",
      "SQLQuery:"
     ]
    },
    {
     "name": "stderr",
     "output_type": "stream",
     "text": [
      "模型預測:  33%|███▎      | 2/6 [00:03<00:07,  1.85s/it]"
     ]
    },
    {
     "name": "stdout",
     "output_type": "stream",
     "text": [
      "\u001b[32;1m\u001b[1;3mSELECT \"PRICE\" \n",
      "FROM cpu \n",
      "WHERE \"NAME\" = 'Intel i5-14400F'\n",
      "LIMIT 1;\u001b[0m\n",
      "SQLResult: \u001b[33;1m\u001b[1;3m[(6800,)]\u001b[0m\n",
      "\u001b[1m> Finished chain.\u001b[0m\n",
      "\n",
      "\n",
      "\u001b[1m> Entering new SQLDatabaseChain chain...\u001b[0m\n",
      "查Intel i5-14600K價格？如果 SQLResult 的後面沒有任何數字或資料，請回覆：查無資料。\n",
      "SQLQuery:"
     ]
    },
    {
     "name": "stderr",
     "output_type": "stream",
     "text": [
      "模型預測:  50%|█████     | 3/6 [00:05<00:05,  1.75s/it]"
     ]
    },
    {
     "name": "stdout",
     "output_type": "stream",
     "text": [
      "\u001b[32;1m\u001b[1;3mSELECT \"PRICE\" \n",
      "FROM cpu \n",
      "WHERE \"NAME\" = 'Intel i5-14600K'\n",
      "LIMIT 1;\u001b[0m\n",
      "SQLResult: \u001b[33;1m\u001b[1;3m[(10200,)]\u001b[0m\n",
      "\u001b[1m> Finished chain.\u001b[0m\n",
      "\n",
      "\n",
      "\u001b[1m> Entering new SQLDatabaseChain chain...\u001b[0m\n",
      "查Intel i7-14700K價格？如果 SQLResult 的後面沒有任何數字或資料，請回覆：查無資料。\n",
      "SQLQuery:"
     ]
    },
    {
     "name": "stderr",
     "output_type": "stream",
     "text": [
      "模型預測:  67%|██████▋   | 4/6 [00:07<00:03,  1.71s/it]"
     ]
    },
    {
     "name": "stdout",
     "output_type": "stream",
     "text": [
      "\u001b[32;1m\u001b[1;3mSELECT \"PRICE\" \n",
      "FROM cpu \n",
      "WHERE \"NAME\" = 'Intel i7-14700K'\n",
      "LIMIT 1;\u001b[0m\n",
      "SQLResult: \u001b[33;1m\u001b[1;3m[(14200,)]\u001b[0m\n",
      "\u001b[1m> Finished chain.\u001b[0m\n",
      "\n",
      "\n",
      "\u001b[1m> Entering new SQLDatabaseChain chain...\u001b[0m\n",
      "請查詢Predator Arc A750 的價錢？如果 SQLResult 的後面沒有任何數字或資料，請回覆：查無資料。\n",
      "SQLQuery:"
     ]
    },
    {
     "name": "stderr",
     "output_type": "stream",
     "text": [
      "模型預測:  83%|████████▎ | 5/6 [00:08<00:01,  1.64s/it]"
     ]
    },
    {
     "name": "stdout",
     "output_type": "stream",
     "text": [
      "\u001b[32;1m\u001b[1;3mSELECT \"PRICE\" \n",
      "FROM cpu \n",
      "WHERE \"NAME\" = 'Predator Arc A750'\n",
      "LIMIT 1;\u001b[0m\n",
      "SQLResult: \u001b[33;1m\u001b[1;3m\u001b[0m\n",
      "\u001b[1m> Finished chain.\u001b[0m\n",
      "\n",
      "\n",
      "\u001b[1m> Entering new SQLDatabaseChain chain...\u001b[0m\n",
      "請查詢有一台GPU價錢為9990？如果 SQLResult 的後面沒有任何數字或資料，請回覆：查無資料。\n",
      "SQLQuery:"
     ]
    },
    {
     "name": "stderr",
     "output_type": "stream",
     "text": [
      "模型預測: 100%|██████████| 6/6 [00:10<00:00,  1.78s/it]"
     ]
    },
    {
     "name": "stdout",
     "output_type": "stream",
     "text": [
      "\u001b[32;1m\u001b[1;3mSELECT \"NAME\", \"PRICE\", \"MODEL\", \"BRAND\" \n",
      "FROM gpu \n",
      "WHERE \"PRICE\" = 9990\n",
      "LIMIT 5;\u001b[0m\n",
      "SQLResult: \u001b[33;1m\u001b[1;3m[('DUAL-RTX4060-O8G', 9990, 'RTX4060', '華碩'), ('RTX4060 CYCLONE 8G OC 金螳螂', 9990, 'RTX4060', '微星')]\u001b[0m\n",
      "\u001b[1m> Finished chain.\u001b[0m\n"
     ]
    },
    {
     "name": "stderr",
     "output_type": "stream",
     "text": [
      "\n"
     ]
    }
   ],
   "source": [
    "with open(recommend_path, 'r') as f:\n",
    "    recommend_data = json.load(f)\n",
    "\n",
    "classifier_error_examples = []\n",
    "\n",
    "for data in tqdm(test_set['data_list'], desc='模型預測'):\n",
    "    \n",
    "    question_class = data['class']\n",
    "    question = data['question']\n",
    "    \n",
    "    if question_class != '6':\n",
    "        predict_class = classifier_chain.invoke({\"question\": f\"{question}\"})\n",
    "        predict_class = re.findall('\\d', predict_class)[0]\n",
    "    elif question_class == '6':\n",
    "        predict_class = '6'\n",
    "    \n",
    "    data['predict_class'] = predict_class\n",
    "    \n",
    "    if predict_class == '6':\n",
    "        try:\n",
    "            question_childs = data['question_childs']\n",
    "            memory.clear()\n",
    "            conversation = ''\n",
    "            for question in question_childs:\n",
    "                input_message = {\"question\": f\"{question}\"}\n",
    "                answer = consultant_chain.invoke(input_message)  \n",
    "                memory.save_context(input_message, {\"answer\": answer})\n",
    "                conversation += f'諮詢的問題：{question}\\n諮詢的回覆：{answer}\\n'\n",
    "            data['predict'] = conversation\n",
    "        except Exception as e:\n",
    "            print(f'預測程式錯誤\\nChain {predict_class}\\n錯誤原因：{e}')\n",
    "    \n",
    "    elif only_for_classification:\n",
    "        pass\n",
    "    \n",
    "    elif question_class == predict_class:\n",
    "        \n",
    "        try:\n",
    "            \n",
    "            if predict_class == '1':\n",
    "                \n",
    "                predict = general_chain.invoke({\"question\": f\"{question}\"})                \n",
    "            \n",
    "            if predict_class == '2':\n",
    "                question = question + SQL_PROMPT\n",
    "                return_data = db_chain.invoke(question)\n",
    "                if return_data['result']:\n",
    "                    predict = ast.literal_eval(return_data['result'])[0][0]\n",
    "                else:\n",
    "                    predict = ''\n",
    "                \n",
    "            if predict_class == '4':\n",
    "                \n",
    "                message = question + RECOMMEND_PROMPT\n",
    "                result = retrieve_chain.invoke({\"question\": message, \"chat_history\": []})\n",
    "                recommend = result['answer']\n",
    "\n",
    "                recommend_index = find_index(recommend)\n",
    "                if recommend_index == None: raise '找不到序號+數字'\n",
    "                recommend_item = find_item(recommend_data, recommend_index)\n",
    "                if recommend_item == False:raise 'JSON中沒有該序號的資料'\n",
    "                predict = recommend_item['items']\n",
    "                \n",
    "                data['recommend'] = recommend\n",
    "            data['predict'] = predict\n",
    "        \n",
    "        except Exception as e:\n",
    "            print(f'預測程式錯誤\\nChain {predict_class}\\n錯誤原因：{e}')\n",
    "    else:\n",
    "        classifier_error_examples.append(question)\n",
    "        print(f'[分類錯誤]問題：{question}\\n真實類別：{question_class}\\n預測類別：{predict_class}')"
   ]
  },
  {
   "cell_type": "code",
   "execution_count": 5,
   "metadata": {},
   "outputs": [
    {
     "data": {
      "text/plain": [
       "'如果 SQLResult 的後面沒有任何數字或資料，請回覆：查無資料。'"
      ]
     },
     "execution_count": 5,
     "metadata": {},
     "output_type": "execute_result"
    }
   ],
   "source": [
    "SQL_PROMPT"
   ]
  },
  {
   "cell_type": "markdown",
   "metadata": {},
   "source": [
    "## 評估"
   ]
  },
  {
   "cell_type": "code",
   "execution_count": 6,
   "metadata": {},
   "outputs": [
    {
     "data": {
      "text/plain": [
       "{'qa_index': '3',\n",
       " 'class': '2',\n",
       " 'question': '查Intel i5-14600K價格？',\n",
       " 'answer': '10200',\n",
       " 'answer_type': 'int',\n",
       " 'only_for_classification': False,\n",
       " 'predict_class': '2',\n",
       " 'predict': 10200}"
      ]
     },
     "execution_count": 6,
     "metadata": {},
     "output_type": "execute_result"
    }
   ],
   "source": [
    "test_set['data_list'][2]"
   ]
  },
  {
   "cell_type": "code",
   "execution_count": 7,
   "metadata": {},
   "outputs": [
    {
     "name": "stderr",
     "output_type": "stream",
     "text": [
      "模型評分: 100%|██████████| 6/6 [00:00<00:00, 10437.92it/s]"
     ]
    },
    {
     "name": "stdout",
     "output_type": "stream",
     "text": [
      "\n",
      "[SQL Error]\n",
      "Type: int\n",
      "Question: 請查詢Predator Arc A750 的價錢？\n",
      "Answer: 5900\n",
      "Predict: \n",
      "\n",
      "\n",
      "[SQL Error]\n",
      "Type: string\n",
      "Question: 請查詢有一台GPU價錢為9990？\n",
      "Answer: Predator Arc A770 16G\n",
      "Predict: DUAL-RTX4060-O8G\n",
      "\n"
     ]
    },
    {
     "name": "stderr",
     "output_type": "stream",
     "text": [
      "\n"
     ]
    }
   ],
   "source": [
    "classifier_error_examples = []\n",
    "\n",
    "for data in tqdm(test_set['data_list'], desc='模型評分'):\n",
    "    \n",
    "    question_class = data['class']\n",
    "    predict_class = data['predict_class']\n",
    "    \n",
    "    if predict_class == '6':\n",
    "        question = data['question']\n",
    "        predict = data['predict']\n",
    "        try:\n",
    "            question = '想要一台' + question\n",
    "            evaluation = consultant_comment_chain.invoke({\"question\": f\"{question}\", \"predict\": f\"{predict}\"})\n",
    "            score = score_chain.invoke({\"question\": f\"{question}\", \"answer\": f\"{predict}\", \"evaluation\": f\"{evaluation}\"})\n",
    "            score = re.findall(r'\\d+', score)[0]\n",
    "            data['evaluation'] = evaluation\n",
    "            data['score'] = score\n",
    "        except Exception as e:\n",
    "            print(f'評估過程發生錯誤\\n錯誤原因：{e}')\n",
    "            \n",
    "    elif only_for_classification:\n",
    "        pass\n",
    "    \n",
    "    elif question_class == predict_class:\n",
    "        question = data['question']\n",
    "        predict = data['predict']\n",
    "        try:\n",
    "            \n",
    "            if predict_class == '1':\n",
    "                \n",
    "                evaluation = comment_chain.invoke({\"question\": f\"{question}\", \"answer\": f\"{predict}\"})\n",
    "                evaluation = evaluation.replace('輸出:', '').replace(' ', '')\n",
    "                \n",
    "                score = score_chain.invoke({\"question\": f\"{question}\", \"answer\": f\"{predict}\", \"evaluation\": f\"{evaluation}\"})\n",
    "                score = re.findall(r'\\d+', score)[0]\n",
    "                    \n",
    "            if predict_class == '2':\n",
    "                \n",
    "                answer = data['answer']\n",
    "                answer_type = data['answer_type']\n",
    "\n",
    "                # 更複雜的計分規則，可以來討論，例如型號與名稱，可以接受模糊比對\n",
    "                \n",
    "                if answer_type == 'error':\n",
    "                    if answer == '':\n",
    "                        score = 10\n",
    "                    else:\n",
    "                        score = 0\n",
    "                elif predict == '':\n",
    "                    score = 0\n",
    "                elif answer_type == 'int':\n",
    "                    if int(answer) == int(predict):\n",
    "                        score = 10\n",
    "                    else:\n",
    "                        score = 0\n",
    "                elif answer_type == 'str':\n",
    "                    if answer in predict:\n",
    "                        score = 10\n",
    "                    else:\n",
    "                        score = 0\n",
    "                \n",
    "                evaluation = ''\n",
    "                \n",
    "                if score == 0:\n",
    "                    print(f'\\n[SQL Error]\\nType: {answer_type}\\nQuestion: {question}\\nAnswer: {answer}\\nPredict: {predict}\\n')\n",
    "                \n",
    "            if predict_class == '4':\n",
    "                \n",
    "                evaluation = recommend_eva_chain.invoke({\"question\": f\"{question}\", \"predict\": f\"{predict}\"})\n",
    "                score = score_chain.invoke({\"question\": f\"{question}\", \"answer\": f\"{predict}\", \"evaluation\": f\"{evaluation}\"})\n",
    "                score = re.findall(r'\\d+', score)[0]\n",
    "                \n",
    "        except Exception as e:\n",
    "            print(f'評估過程發生錯誤\\n錯誤原因：{e}')\n",
    "        data['evaluation'] = evaluation\n",
    "        data['score'] = score\n",
    "        \n",
    "    else:\n",
    "        error_example = {}\n",
    "        data['score'] = 0\n",
    "        classifier_error_examples.append(data)\n",
    "        \n",
    "if classifier_error_examples and only_for_classification: print(classifier_error_examples)"
   ]
  },
  {
   "cell_type": "markdown",
   "metadata": {},
   "source": [
    "## 分數計算"
   ]
  },
  {
   "cell_type": "code",
   "execution_count": null,
   "metadata": {},
   "outputs": [],
   "source": []
  },
  {
   "cell_type": "code",
   "execution_count": 8,
   "metadata": {},
   "outputs": [
    {
     "name": "stdout",
     "output_type": "stream",
     "text": [
      "Classifier Score: 10.0\n",
      "SQL Score: 6.666666666666667 \n"
     ]
    }
   ],
   "source": [
    "classifier_predict = 0\n",
    "consultant_num = 0\n",
    "\n",
    "class_1_scores = []\n",
    "class_2_scores = []\n",
    "class_4_scores = []\n",
    "class_6_scores = []\n",
    "\n",
    "for data in test_set['data_list']:\n",
    "    \n",
    "    data_class = data['class'] \n",
    "    predict_class = data['predict_class'] \n",
    "    \n",
    "    \n",
    "    if predict_class == data_class:\n",
    "        \n",
    "        if predict_class == '6':\n",
    "            data_score = data['score'] \n",
    "            class_6_scores.append(data_score)\n",
    "            consultant_num += 1\n",
    "            \n",
    "        elif only_for_classification:\n",
    "            classifier_predict += 1\n",
    "        else:\n",
    "            classifier_predict += 1\n",
    "            data_score = data['score'] \n",
    "            \n",
    "            if data_class == '1':\n",
    "                class_1_scores.append(data_score)\n",
    "            elif data_class == '2':\n",
    "                class_2_scores.append(data_score)\n",
    "            elif data_class == '4':\n",
    "                class_4_scores.append(data_score)\n",
    "        \n",
    "classifier_accuracy = int(classifier_predict / (len(test_set['data_list']) - consultant_num) *100) \n",
    "classifier_average = float(classifier_predict / (len(test_set['data_list']) - consultant_num) * 10) \n",
    "\n",
    "if classifier_average:\n",
    "    test_set['Classifier Accuracy'] = classifier_accuracy\n",
    "    test_set['score_data']['Classifier'] = classifier_average\n",
    "    print(f'Classifier Score: {classifier_average}')\n",
    "\n",
    "if class_1_scores:\n",
    "    class_1_average = sum([int(num) for num in class_1_scores]) / len(class_1_scores)\n",
    "    test_set['score_data']['General'] = class_1_average\n",
    "    print(f'General Score: {class_1_average} ')\n",
    "    \n",
    "if class_2_scores:\n",
    "    class_2_average = sum([int(num) for num in class_2_scores]) / len(class_2_scores)\n",
    "    test_set['score_data']['SQL'] = class_2_average\n",
    "    print(f'SQL Score: {class_2_average} ')\n",
    "    \n",
    "if class_4_scores:\n",
    "    class_4_average = sum([int(num) for num in class_4_scores]) / len(class_4_scores)\n",
    "    test_set['score_data']['Retrieve'] = class_4_average\n",
    "    print(f'Retrieve Score: {class_4_average} ')\n",
    "    \n",
    "if class_6_scores:\n",
    "    class_6_average = sum([int(num) for num in class_6_scores]) / len(class_6_scores)\n",
    "    test_set['score_data']['Consultant'] = class_6_average\n",
    "    print(f'Consultant Score: {class_6_average} ')"
   ]
  },
  {
   "cell_type": "markdown",
   "metadata": {},
   "source": [
    "## 紀錄儲存"
   ]
  },
  {
   "cell_type": "code",
   "execution_count": 9,
   "metadata": {},
   "outputs": [
    {
     "name": "stdout",
     "output_type": "stream",
     "text": [
      "Report path : report/2024-03-17 04-50-44.json\n"
     ]
    }
   ],
   "source": [
    "from units import get_time_text\n",
    "\n",
    "_, evaluation_datetime = get_time_text()\n",
    "test_set['Evaluation datetime'] = evaluation_datetime\n",
    "report_path = config['report_path']\n",
    "evaluation_json_path = f'{report_path}/{evaluation_datetime}.json'\n",
    "\n",
    "with open(evaluation_json_path, 'w') as rm:\n",
    "    json.dump(test_set, rm, ensure_ascii=False, indent=4)\n",
    "    \n",
    "print(f'Report path : {evaluation_json_path}')"
   ]
  },
  {
   "cell_type": "code",
   "execution_count": null,
   "metadata": {},
   "outputs": [],
   "source": []
  }
 ],
 "metadata": {
  "kernelspec": {
   "display_name": "Python 3 (ipykernel)",
   "language": "python",
   "name": "python3"
  },
  "language_info": {
   "codemirror_mode": {
    "name": "ipython",
    "version": 3
   },
   "file_extension": ".py",
   "mimetype": "text/x-python",
   "name": "python",
   "nbconvert_exporter": "python",
   "pygments_lexer": "ipython3",
   "version": "3.10.13"
  }
 },
 "nbformat": 4,
 "nbformat_minor": 4
}
