{
 "cells": [
  {
   "cell_type": "markdown",
   "id": "d6098b53-fdd1-4165-9ac2-298a7d6f8a53",
   "metadata": {},
   "source": [
    "### 使用流程\n",
    "1. 建立Insert、Clear等各項function\n",
    "2. 建立資料庫、表格"
   ]
  },
  {
   "cell_type": "code",
   "execution_count": 191,
   "id": "73de1514-33dc-4a45-990c-ea63532eba53",
   "metadata": {},
   "outputs": [],
   "source": [
    "import pandas as pd\n",
    "import requests\n",
    "from bs4 import BeautifulSoup\n",
    "import re\n",
    "from datetime import datetime\n",
    "import warnings\n",
    "import sqlite3  \n",
    "output_path='./output/'\n",
    "db_name = './data/sqlchain.db'\n",
    "conn = sqlite3.connect(db_name)  "
   ]
  },
  {
   "cell_type": "code",
   "execution_count": 11,
   "id": "740fd25a-ceae-4462-85fe-24fd85bd96af",
   "metadata": {},
   "outputs": [],
   "source": [
    "# 基本設定\n",
    "pd.set_option('display.max_columns', None)\n",
    "pd.set_option('display.max_rows', None)\n",
    "pd.set_option('display.float_format',lambda x: '%.2f' %x)\n",
    "warnings.filterwarnings(\"ignore\")"
   ]
  },
  {
   "cell_type": "code",
   "execution_count": 108,
   "id": "2ba57f05-4619-4e52-b8d6-32a37b07bd46",
   "metadata": {},
   "outputs": [],
   "source": [
    "# Insert Data\n",
    "def insertTable(insert_table, records_table):\n",
    "    # 直接将DataFrame转换成元组列表\n",
    "    records = [tuple(x) for x in records_table.values]\n",
    "\n",
    "    conn = sqlite3.connect(db_name)\n",
    "    try:\n",
    "        # 假设DataFrame的列名与数据库表的列名一致\n",
    "        columns = \",\".join(records_table.columns)\n",
    "        placeholders = \", \".join([\"?\"] * len(records_table.columns))\n",
    "        insert_data_sql = f\"INSERT INTO {insert_table} ({columns}) VALUES ({placeholders})\"\n",
    "        \n",
    "        conn.executemany(insert_data_sql, records)\n",
    "        conn.commit()\n",
    "    except sqlite3.Error as error:\n",
    "        print(error)\n",
    "    finally:\n",
    "        conn.close()\n"
   ]
  },
  {
   "cell_type": "code",
   "execution_count": 113,
   "id": "abdb6148-1691-4b42-91b2-a969dd8c6625",
   "metadata": {},
   "outputs": [],
   "source": [
    "# Clear Data\n",
    "def clearTable(db_name, table_name):\n",
    "    \"\"\"\n",
    "    清空指定SQLite資料表中的所有數據。\n",
    "\n",
    "    参数:\n",
    "    db_name (str): 資料表文件名。\n",
    "    table_name (str): 要清空的表名。\n",
    "    \"\"\"\n",
    "    try:\n",
    "        conn = sqlite3.connect(db_name)\n",
    "        conn.execute(f'''DELETE FROM {table_name};''')\n",
    "        conn.commit()\n",
    "    except sqlite3.Error as error:\n",
    "        print(f\"error: {error}\")\n",
    "    finally:\n",
    "        conn.close()\n"
   ]
  },
  {
   "cell_type": "markdown",
   "id": "4f7f81a3-640b-4751-9c3e-4d5a4d728e0d",
   "metadata": {},
   "source": [
    "### Insert CPU 的資料"
   ]
  },
  {
   "cell_type": "code",
   "execution_count": 134,
   "id": "c489f1c1-906c-44b2-a1eb-eff567699db7",
   "metadata": {},
   "outputs": [],
   "source": [
    "table_name='cpu'\n",
    "clearTable(db_name, table_name)"
   ]
  },
  {
   "cell_type": "code",
   "execution_count": 135,
   "id": "8f9513d5-bcb3-4688-97c7-d6caf782ee77",
   "metadata": {},
   "outputs": [],
   "source": [
    "#讀取資料\n",
    "df_cpu=pd.read_csv(output_path+'cpu.csv')\n",
    "df_cpu.drop(columns=['class'],inplace=True)\n",
    "#插入資料\n",
    "insertTable('cpu', df_cpu)"
   ]
  },
  {
   "cell_type": "markdown",
   "id": "f0e18a2a-634e-435c-b7fb-ae4650009f7d",
   "metadata": {},
   "source": [
    "### Insert GPU 的資料"
   ]
  },
  {
   "cell_type": "code",
   "execution_count": 194,
   "id": "e7b48a1b-cbf3-4950-b318-b43e46dc3461",
   "metadata": {},
   "outputs": [],
   "source": [
    "# 清空資料(這邊是為了避免資料因為爬蟲出現重複，所以先清空table全部資料)\n",
    "table_name='gpu'\n",
    "clearTable(db_name, table_name)"
   ]
  },
  {
   "cell_type": "code",
   "execution_count": 195,
   "id": "420c12e8-5809-44f8-8125-00f4ca1e31c5",
   "metadata": {},
   "outputs": [
    {
     "data": {
      "text/html": [
       "<div>\n",
       "<style scoped>\n",
       "    .dataframe tbody tr th:only-of-type {\n",
       "        vertical-align: middle;\n",
       "    }\n",
       "\n",
       "    .dataframe tbody tr th {\n",
       "        vertical-align: top;\n",
       "    }\n",
       "\n",
       "    .dataframe thead th {\n",
       "        text-align: right;\n",
       "    }\n",
       "</style>\n",
       "<table border=\"1\" class=\"dataframe\">\n",
       "  <thead>\n",
       "    <tr style=\"text-align: right;\">\n",
       "      <th></th>\n",
       "      <th>name</th>\n",
       "      <th>price</th>\n",
       "      <th>etl_date</th>\n",
       "      <th>model</th>\n",
       "      <th>brand</th>\n",
       "      <th>memory</th>\n",
       "      <th>memory_value</th>\n",
       "      <th>memory_unit</th>\n",
       "      <th>corefrequency_value</th>\n",
       "      <th>corefrequency_unit</th>\n",
       "      <th>ddr</th>\n",
       "    </tr>\n",
       "  </thead>\n",
       "  <tbody>\n",
       "    <tr>\n",
       "      <th>0</th>\n",
       "      <td>微星 N210-MD1G/D3(589MHz/1G DDR3/風扇版/14.5cm/三年保)</td>\n",
       "      <td>1250</td>\n",
       "      <td>2024-03-17</td>\n",
       "      <td>Unknown</td>\n",
       "      <td>微星</td>\n",
       "      <td>1G</td>\n",
       "      <td>1.00</td>\n",
       "      <td>G</td>\n",
       "      <td>589.00</td>\n",
       "      <td>MHz</td>\n",
       "      <td>3.00</td>\n",
       "    </tr>\n",
       "    <tr>\n",
       "      <th>1</th>\n",
       "      <td>華碩 GT710-SL-2GD3-BRK-EVO(954MHz/2G DDR3/17cm/註...</td>\n",
       "      <td>1690</td>\n",
       "      <td>2024-03-17</td>\n",
       "      <td>GT710</td>\n",
       "      <td>華碩</td>\n",
       "      <td>2G</td>\n",
       "      <td>2.00</td>\n",
       "      <td>G</td>\n",
       "      <td>954.00</td>\n",
       "      <td>MHz</td>\n",
       "      <td>3.00</td>\n",
       "    </tr>\n",
       "    <tr>\n",
       "      <th>2</th>\n",
       "      <td>華碩 GT710-SL-2GD5-BRK-EVO(954MHz/2G DDR5/17cm/註...</td>\n",
       "      <td>1790</td>\n",
       "      <td>2024-03-17</td>\n",
       "      <td>GT710</td>\n",
       "      <td>華碩</td>\n",
       "      <td>2G</td>\n",
       "      <td>2.00</td>\n",
       "      <td>G</td>\n",
       "      <td>954.00</td>\n",
       "      <td>MHz</td>\n",
       "      <td>5.00</td>\n",
       "    </tr>\n",
       "    <tr>\n",
       "      <th>3</th>\n",
       "      <td>技嘉 N710D3-2GL(954MHz/2G DDR3/14.4cm/三年保)</td>\n",
       "      <td>1790</td>\n",
       "      <td>2024-03-17</td>\n",
       "      <td>Unknown</td>\n",
       "      <td>技嘉</td>\n",
       "      <td>2G</td>\n",
       "      <td>2.00</td>\n",
       "      <td>G</td>\n",
       "      <td>954.00</td>\n",
       "      <td>MHz</td>\n",
       "      <td>3.00</td>\n",
       "    </tr>\n",
       "    <tr>\n",
       "      <th>4</th>\n",
       "      <td>微星 GT710 1GD3H LP(954MHz/1G DDR3/靜音版/14.6cm/三年保)</td>\n",
       "      <td>1450</td>\n",
       "      <td>2024-03-17</td>\n",
       "      <td>GT710</td>\n",
       "      <td>微星</td>\n",
       "      <td>1G</td>\n",
       "      <td>1.00</td>\n",
       "      <td>G</td>\n",
       "      <td>954.00</td>\n",
       "      <td>MHz</td>\n",
       "      <td>3.00</td>\n",
       "    </tr>\n",
       "  </tbody>\n",
       "</table>\n",
       "</div>"
      ],
      "text/plain": [
       "                                                name  price    etl_date  \\\n",
       "0     微星 N210-MD1G/D3(589MHz/1G DDR3/風扇版/14.5cm/三年保)   1250  2024-03-17   \n",
       "1  華碩 GT710-SL-2GD3-BRK-EVO(954MHz/2G DDR3/17cm/註...   1690  2024-03-17   \n",
       "2  華碩 GT710-SL-2GD5-BRK-EVO(954MHz/2G DDR5/17cm/註...   1790  2024-03-17   \n",
       "3           技嘉 N710D3-2GL(954MHz/2G DDR3/14.4cm/三年保)   1790  2024-03-17   \n",
       "4   微星 GT710 1GD3H LP(954MHz/1G DDR3/靜音版/14.6cm/三年保)   1450  2024-03-17   \n",
       "\n",
       "     model brand memory  memory_value memory_unit  corefrequency_value  \\\n",
       "0  Unknown    微星     1G          1.00           G               589.00   \n",
       "1    GT710    華碩     2G          2.00           G               954.00   \n",
       "2    GT710    華碩     2G          2.00           G               954.00   \n",
       "3  Unknown    技嘉     2G          2.00           G               954.00   \n",
       "4    GT710    微星     1G          1.00           G               954.00   \n",
       "\n",
       "  corefrequency_unit  ddr  \n",
       "0                MHz 3.00  \n",
       "1                MHz 3.00  \n",
       "2                MHz 5.00  \n",
       "3                MHz 3.00  \n",
       "4                MHz 3.00  "
      ]
     },
     "execution_count": 195,
     "metadata": {},
     "output_type": "execute_result"
    }
   ],
   "source": [
    "#讀取資料\n",
    "df_gpu=pd.read_csv(output_path+'gpu.csv')\n",
    "df_gpu.drop(columns=['class','cudacores'],inplace=True)\n",
    "df_gpu.head()"
   ]
  },
  {
   "cell_type": "code",
   "execution_count": 196,
   "id": "a13b1500-048c-40b0-8201-1b9606d4a668",
   "metadata": {},
   "outputs": [],
   "source": [
    "#插入資料\n",
    "insertTable('gpu', df_gpu)"
   ]
  },
  {
   "cell_type": "markdown",
   "id": "d95ce5ac-054a-492d-bb57-1e506c83ace5",
   "metadata": {},
   "source": [
    "# Insert 硬碟的資料"
   ]
  },
  {
   "cell_type": "code",
   "execution_count": 163,
   "id": "e217a592-81f3-43d8-8514-acc100318aa1",
   "metadata": {},
   "outputs": [],
   "source": [
    "table_name='hdd'\n",
    "clearTable(db_name, table_name)"
   ]
  },
  {
   "cell_type": "code",
   "execution_count": 164,
   "id": "6303013b-aa89-45c2-8f4c-3cde85e2933a",
   "metadata": {},
   "outputs": [],
   "source": [
    "df_hdd=pd.read_csv(output_path+'hdd.csv')\n",
    "df_hdd.drop(columns=['id','class','capacity'],inplace=True)\n",
    "#插入資料\n",
    "insertTable('hdd', df_hdd)"
   ]
  },
  {
   "cell_type": "markdown",
   "id": "81356aba-0e4c-4948-a862-e6d1e0270def",
   "metadata": {},
   "source": [
    "## Insert Ram的資料"
   ]
  },
  {
   "cell_type": "code",
   "execution_count": 158,
   "id": "f73f5df5-6fd3-4ef6-a474-a81ae48bb682",
   "metadata": {},
   "outputs": [],
   "source": [
    "table_name='ram'\n",
    "clearTable(db_name, table_name)"
   ]
  },
  {
   "cell_type": "code",
   "execution_count": 159,
   "id": "7d0e0cef-9d94-4280-b1ad-29e880642f4e",
   "metadata": {},
   "outputs": [],
   "source": [
    "df_ram=pd.read_csv(output_path+'ram.csv')\n",
    "df_ram.drop(columns=['class'],inplace=True)\n",
    "#插入資料\n",
    "insertTable('ram', df_ram)"
   ]
  },
  {
   "cell_type": "markdown",
   "id": "b9b7a282-1687-45fc-a955-7234581d37a4",
   "metadata": {},
   "source": [
    "# Insert 散熱器的資料"
   ]
  },
  {
   "cell_type": "code",
   "execution_count": null,
   "id": "df256013-c657-4bcf-ba98-30d950ae5ba7",
   "metadata": {},
   "outputs": [],
   "source": [
    "table_name='radiator'\n",
    "clearTable(db_name, table_name)"
   ]
  },
  {
   "cell_type": "code",
   "execution_count": 156,
   "id": "7a024fd4-0a8f-4934-93cf-01d987a7973d",
   "metadata": {},
   "outputs": [],
   "source": [
    "df_radiator=pd.read_csv(output_path+'cool.csv')\n",
    "df_radiator.drop(columns=['class'],inplace=True)\n",
    "#插入資料\n",
    "insertTable('radiator', df_raditor)"
   ]
  },
  {
   "cell_type": "code",
   "execution_count": 152,
   "id": "e560cc5d-eb33-459a-9aaf-531c9a1be286",
   "metadata": {},
   "outputs": [
    {
     "data": {
      "text/html": [
       "<div>\n",
       "<style scoped>\n",
       "    .dataframe tbody tr th:only-of-type {\n",
       "        vertical-align: middle;\n",
       "    }\n",
       "\n",
       "    .dataframe tbody tr th {\n",
       "        vertical-align: top;\n",
       "    }\n",
       "\n",
       "    .dataframe thead th {\n",
       "        text-align: right;\n",
       "    }\n",
       "</style>\n",
       "<table border=\"1\" class=\"dataframe\">\n",
       "  <thead>\n",
       "    <tr style=\"text-align: right;\">\n",
       "      <th></th>\n",
       "      <th>ID</th>\n",
       "      <th>NAME</th>\n",
       "      <th>PRICE</th>\n",
       "      <th>MODEL</th>\n",
       "      <th>BRAND</th>\n",
       "      <th>ETL_DATE</th>\n",
       "    </tr>\n",
       "  </thead>\n",
       "  <tbody>\n",
       "    <tr>\n",
       "      <th>0</th>\n",
       "      <td>利民 M.2 2280 TYPE A B SSD 固態硬碟散熱片/鋁合金/單雙面皆適用</td>\n",
       "      <td>利民 M.2 2280 TYPE A B SSD 固態硬碟散熱片/鋁合金/單雙面皆適用</td>\n",
       "      <td>199</td>\n",
       "      <td>利民 M.2 2280 TYPE A B SSD 固態硬碟散熱片/鋁合金/單雙面皆適用</td>\n",
       "      <td>利民</td>\n",
       "      <td>2024-03-03</td>\n",
       "    </tr>\n",
       "    <tr>\n",
       "      <th>1</th>\n",
       "      <td>利民 M.2 2280 SSD 固態硬碟散熱片/鋁合金/單雙面皆適用</td>\n",
       "      <td>利民 M.2 2280 SSD 固態硬碟散熱片/鋁合金/單雙面皆適用</td>\n",
       "      <td>350</td>\n",
       "      <td>利民 M.2 2280 SSD 固態硬碟散熱片/鋁合金/單雙面皆適用</td>\n",
       "      <td>利民</td>\n",
       "      <td>2024-03-03</td>\n",
       "    </tr>\n",
       "    <tr>\n",
       "      <th>2</th>\n",
       "      <td>利民 M.2 2280 PRO SSD 固態硬碟散熱片/鋁合金+8 mm純銅導管/單雙面皆適用</td>\n",
       "      <td>利民 M.2 2280 PRO SSD 固態硬碟散熱片/鋁合金+8 mm純銅導管/單雙面皆適用</td>\n",
       "      <td>400</td>\n",
       "      <td>利民 M.2 2280 PRO SSD 固態硬碟散熱片/鋁合金+8 mm純銅導管/單雙面皆適用</td>\n",
       "      <td>利民</td>\n",
       "      <td>2024-03-03</td>\n",
       "    </tr>\n",
       "    <tr>\n",
       "      <th>3</th>\n",
       "      <td>利民 HR-09 2280 SSD 固態硬碟散熱器/6 mm熱導管/電鍍鰭片/單雙面皆適用</td>\n",
       "      <td>利民 HR-09 2280 SSD 固態硬碟散熱器/6 mm熱導管/電鍍鰭片/單雙面皆適用</td>\n",
       "      <td>550</td>\n",
       "      <td>利民 HR-09 2280 SSD 固態硬碟散熱器/6 mm熱導管/電鍍鰭片/單雙面皆適用</td>\n",
       "      <td>利民</td>\n",
       "      <td>2024-03-03</td>\n",
       "    </tr>\n",
       "    <tr>\n",
       "      <th>4</th>\n",
       "      <td>利民 HR-10 2280 PRO SSD 固態硬碟散熱器/4導管/3CM PWM風扇/單雙...</td>\n",
       "      <td>利民 HR-10 2280 PRO SSD 固態硬碟散熱器/4導管/3CM PWM風扇/單雙...</td>\n",
       "      <td>690</td>\n",
       "      <td>利民 HR-10 2280 PRO SSD 固態硬碟散熱器/4導管/3CM PWM風扇/單雙...</td>\n",
       "      <td>利民</td>\n",
       "      <td>2024-03-03</td>\n",
       "    </tr>\n",
       "  </tbody>\n",
       "</table>\n",
       "</div>"
      ],
      "text/plain": [
       "                                                  ID  \\\n",
       "0        利民 M.2 2280 TYPE A B SSD 固態硬碟散熱片/鋁合金/單雙面皆適用   \n",
       "1                 利民 M.2 2280 SSD 固態硬碟散熱片/鋁合金/單雙面皆適用   \n",
       "2    利民 M.2 2280 PRO SSD 固態硬碟散熱片/鋁合金+8 mm純銅導管/單雙面皆適用   \n",
       "3      利民 HR-09 2280 SSD 固態硬碟散熱器/6 mm熱導管/電鍍鰭片/單雙面皆適用   \n",
       "4  利民 HR-10 2280 PRO SSD 固態硬碟散熱器/4導管/3CM PWM風扇/單雙...   \n",
       "\n",
       "                                                NAME  PRICE  \\\n",
       "0        利民 M.2 2280 TYPE A B SSD 固態硬碟散熱片/鋁合金/單雙面皆適用    199   \n",
       "1                 利民 M.2 2280 SSD 固態硬碟散熱片/鋁合金/單雙面皆適用    350   \n",
       "2    利民 M.2 2280 PRO SSD 固態硬碟散熱片/鋁合金+8 mm純銅導管/單雙面皆適用    400   \n",
       "3      利民 HR-09 2280 SSD 固態硬碟散熱器/6 mm熱導管/電鍍鰭片/單雙面皆適用    550   \n",
       "4  利民 HR-10 2280 PRO SSD 固態硬碟散熱器/4導管/3CM PWM風扇/單雙...    690   \n",
       "\n",
       "                                               MODEL BRAND    ETL_DATE  \n",
       "0        利民 M.2 2280 TYPE A B SSD 固態硬碟散熱片/鋁合金/單雙面皆適用    利民  2024-03-03  \n",
       "1                 利民 M.2 2280 SSD 固態硬碟散熱片/鋁合金/單雙面皆適用    利民  2024-03-03  \n",
       "2    利民 M.2 2280 PRO SSD 固態硬碟散熱片/鋁合金+8 mm純銅導管/單雙面皆適用    利民  2024-03-03  \n",
       "3      利民 HR-09 2280 SSD 固態硬碟散熱器/6 mm熱導管/電鍍鰭片/單雙面皆適用    利民  2024-03-03  \n",
       "4  利民 HR-10 2280 PRO SSD 固態硬碟散熱器/4導管/3CM PWM風扇/單雙...    利民  2024-03-03  "
      ]
     },
     "execution_count": 152,
     "metadata": {},
     "output_type": "execute_result"
    }
   ],
   "source": [
    "### 驗證查詢\n",
    "conn = sqlite3.connect(db_name)  \n",
    "sql1=f'''\n",
    "select *\n",
    "from cool\n",
    "'''\n",
    "test=pd.read_sql(sql1,conn)\n",
    "conn.close()\n",
    "test.head()"
   ]
  },
  {
   "cell_type": "markdown",
   "id": "4b72acbe-d342-4e7d-975e-7e54c905894e",
   "metadata": {},
   "source": [
    "## 處理機殼的資料"
   ]
  },
  {
   "cell_type": "code",
   "execution_count": 173,
   "id": "690fe0df-14ca-4720-8e4b-d8bc20922722",
   "metadata": {},
   "outputs": [],
   "source": [
    "table_name='chassis'\n",
    "clearTable(db_name, table_name)"
   ]
  },
  {
   "cell_type": "code",
   "execution_count": 174,
   "id": "a66a25ea-86cf-4b09-98ee-efdfceb5c0cb",
   "metadata": {},
   "outputs": [],
   "source": [
    "df_chassis=pd.read_csv(output_path+'chassis.csv')\n",
    "df_chassis.drop(columns=['class'],inplace=True)\n",
    "#插入資料\n",
    "insertTable('chassis', df_chassis)"
   ]
  },
  {
   "cell_type": "markdown",
   "id": "8289b520-25ba-45ef-ad2b-6ce3a5f79b86",
   "metadata": {},
   "source": [
    "## 處理電源的資料 "
   ]
  },
  {
   "cell_type": "code",
   "execution_count": 175,
   "id": "c0a5f677-9d48-4ac1-9836-9575a880eac5",
   "metadata": {},
   "outputs": [],
   "source": [
    "table_name='battery'\n",
    "clearTable(db_name, table_name)"
   ]
  },
  {
   "cell_type": "code",
   "execution_count": 176,
   "id": "778ace3c-2071-480e-9937-dc4f0f79eecf",
   "metadata": {},
   "outputs": [
    {
     "name": "stdout",
     "output_type": "stream",
     "text": [
      "table battery has no column named tdp\n"
     ]
    }
   ],
   "source": [
    "df_battery=pd.read_csv(output_path+'battery.csv')\n",
    "df_battery.drop(columns=['class'],inplace=True)\n",
    "#插入資料\n",
    "insertTable('battery', df_chassis)"
   ]
  },
  {
   "cell_type": "markdown",
   "id": "d6bf5b18-2b1e-4ab7-b3f9-fedceaacd978",
   "metadata": {},
   "source": [
    "### 處理螢幕的資料"
   ]
  },
  {
   "cell_type": "code",
   "execution_count": 188,
   "id": "bd2ed8da-8316-4e10-a1d3-147a5a801761",
   "metadata": {},
   "outputs": [
    {
     "data": {
      "text/html": [
       "<div>\n",
       "<style scoped>\n",
       "    .dataframe tbody tr th:only-of-type {\n",
       "        vertical-align: middle;\n",
       "    }\n",
       "\n",
       "    .dataframe tbody tr th {\n",
       "        vertical-align: top;\n",
       "    }\n",
       "\n",
       "    .dataframe thead th {\n",
       "        text-align: right;\n",
       "    }\n",
       "</style>\n",
       "<table border=\"1\" class=\"dataframe\">\n",
       "  <thead>\n",
       "    <tr style=\"text-align: right;\">\n",
       "      <th></th>\n",
       "      <th>class</th>\n",
       "      <th>name</th>\n",
       "      <th>price</th>\n",
       "      <th>etl_date</th>\n",
       "      <th>brand</th>\n",
       "      <th>model</th>\n",
       "      <th>hz</th>\n",
       "    </tr>\n",
       "  </thead>\n",
       "  <tbody>\n",
       "    <tr>\n",
       "      <th>0</th>\n",
       "      <td>螢幕｜投影機｜壁掛</td>\n",
       "      <td>【主機搭購】BenQ GW2475H(1A2H/5ms/IPS/無喇叭)不閃屏.低藍光.護眼...</td>\n",
       "      <td>2488</td>\n",
       "      <td>2024-03-17</td>\n",
       "      <td>BenQ</td>\n",
       "      <td>GW2475H</td>\n",
       "      <td>NaN</td>\n",
       "    </tr>\n",
       "    <tr>\n",
       "      <th>1</th>\n",
       "      <td>螢幕｜投影機｜壁掛</td>\n",
       "      <td>【主機搭購】BenQ BL2480(Plus) (1A1H1P/5ms/IPS/含喇叭)三介...</td>\n",
       "      <td>2888</td>\n",
       "      <td>2024-03-17</td>\n",
       "      <td>BenQ</td>\n",
       "      <td>BL2480</td>\n",
       "      <td>NaN</td>\n",
       "    </tr>\n",
       "    <tr>\n",
       "      <th>2</th>\n",
       "      <td>螢幕｜投影機｜壁掛</td>\n",
       "      <td>【主機搭購】BenQ MOBIUZ EX2710S(2H1P/IPS/165Hz/含喇叭/F...</td>\n",
       "      <td>5888</td>\n",
       "      <td>2024-03-17</td>\n",
       "      <td>BenQ</td>\n",
       "      <td>MOBIUZ</td>\n",
       "      <td>165Hz</td>\n",
       "    </tr>\n",
       "    <tr>\n",
       "      <th>3</th>\n",
       "      <td>螢幕｜投影機｜壁掛</td>\n",
       "      <td>【主機搭購】BenQ MOBIUZ EX2710R(2H1P/1ms/VA曲面/165Hz/...</td>\n",
       "      <td>6688</td>\n",
       "      <td>2024-03-17</td>\n",
       "      <td>BenQ</td>\n",
       "      <td>MOBIUZ</td>\n",
       "      <td>165Hz</td>\n",
       "    </tr>\n",
       "    <tr>\n",
       "      <th>4</th>\n",
       "      <td>螢幕｜投影機｜壁掛</td>\n",
       "      <td>【主機搭購】ACER EK241Y E(1A1H/1ms/IPS/100Hz/無喇叭/Fre...</td>\n",
       "      <td>2288</td>\n",
       "      <td>2024-03-17</td>\n",
       "      <td>ACER</td>\n",
       "      <td>EK241Y</td>\n",
       "      <td>100Hz</td>\n",
       "    </tr>\n",
       "  </tbody>\n",
       "</table>\n",
       "</div>"
      ],
      "text/plain": [
       "       class                                               name  price  \\\n",
       "0  螢幕｜投影機｜壁掛  【主機搭購】BenQ GW2475H(1A2H/5ms/IPS/無喇叭)不閃屏.低藍光.護眼...   2488   \n",
       "1  螢幕｜投影機｜壁掛  【主機搭購】BenQ BL2480(Plus) (1A1H1P/5ms/IPS/含喇叭)三介...   2888   \n",
       "2  螢幕｜投影機｜壁掛  【主機搭購】BenQ MOBIUZ EX2710S(2H1P/IPS/165Hz/含喇叭/F...   5888   \n",
       "3  螢幕｜投影機｜壁掛  【主機搭購】BenQ MOBIUZ EX2710R(2H1P/1ms/VA曲面/165Hz/...   6688   \n",
       "4  螢幕｜投影機｜壁掛  【主機搭購】ACER EK241Y E(1A1H/1ms/IPS/100Hz/無喇叭/Fre...   2288   \n",
       "\n",
       "     etl_date brand    model     hz  \n",
       "0  2024-03-17  BenQ  GW2475H    NaN  \n",
       "1  2024-03-17  BenQ   BL2480    NaN  \n",
       "2  2024-03-17  BenQ   MOBIUZ  165Hz  \n",
       "3  2024-03-17  BenQ   MOBIUZ  165Hz  \n",
       "4  2024-03-17  ACER   EK241Y  100Hz  "
      ]
     },
     "execution_count": 188,
     "metadata": {},
     "output_type": "execute_result"
    }
   ],
   "source": [
    "df_monitor=pd.read_csv(output_path+'monitor.csv')\n",
    "df_monitor.head()"
   ]
  },
  {
   "cell_type": "code",
   "execution_count": 189,
   "id": "b4c30754-32c7-47a9-ab94-389c3aaf0fff",
   "metadata": {},
   "outputs": [],
   "source": [
    "table_name='monitor'\n",
    "clearTable(db_name, table_name)"
   ]
  },
  {
   "cell_type": "code",
   "execution_count": 190,
   "id": "f1dfd766-7e65-4df8-b804-493b13af852c",
   "metadata": {},
   "outputs": [],
   "source": [
    "df_monitor=pd.read_csv(output_path+'monitor.csv')\n",
    "df_monitor.drop(columns=['class'],inplace=True)\n",
    "#插入資料\n",
    "insertTable('monitor', df_monitor)"
   ]
  }
 ],
 "metadata": {
  "kernelspec": {
   "display_name": "Python 3 (ipykernel)",
   "language": "python",
   "name": "python3"
  },
  "language_info": {
   "codemirror_mode": {
    "name": "ipython",
    "version": 3
   },
   "file_extension": ".py",
   "mimetype": "text/x-python",
   "name": "python",
   "nbconvert_exporter": "python",
   "pygments_lexer": "ipython3",
   "version": "3.10.13"
  }
 },
 "nbformat": 4,
 "nbformat_minor": 5
}
