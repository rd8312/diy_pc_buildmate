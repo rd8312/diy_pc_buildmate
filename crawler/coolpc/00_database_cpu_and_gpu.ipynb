{
 "cells": [
  {
   "cell_type": "markdown",
   "metadata": {},
   "source": [
    "### 使用流程\n",
    "1. 建立資料庫、表格"
   ]
  },
  {
   "cell_type": "code",
   "execution_count": 1,
   "metadata": {},
   "outputs": [],
   "source": [
    "# # # 建立資料庫\n",
    "import sqlite3  \n",
    "import pandas as pd\n",
    "  \n",
    "db_name = 'data/cpu_and_gpu.db'\n",
    "conn = sqlite3.connect(db_name)  \n",
    "  \n",
    "# print(\"Opened database successfully\")  "
   ]
  },
  {
   "cell_type": "code",
   "execution_count": 3,
   "metadata": {},
   "outputs": [
    {
     "ename": "OperationalError",
     "evalue": "table gpu already exists",
     "output_type": "error",
     "traceback": [
      "\u001b[0;31m---------------------------------------------------------------------------\u001b[0m",
      "\u001b[0;31mOperationalError\u001b[0m                          Traceback (most recent call last)",
      "Cell \u001b[0;32mIn[3], line 13\u001b[0m\n\u001b[1;32m      1\u001b[0m \u001b[38;5;66;03m# 建立表格\u001b[39;00m\n\u001b[1;32m      2\u001b[0m \n\u001b[1;32m      3\u001b[0m \u001b[38;5;66;03m# table_name = 'cpu'\u001b[39;00m\n\u001b[0;32m   (...)\u001b[0m\n\u001b[1;32m      9\u001b[0m \u001b[38;5;66;03m#        BRAND          TEXT    \u001b[39;00m\n\u001b[1;32m     10\u001b[0m \u001b[38;5;66;03m#        );''')\u001b[39;00m\n\u001b[1;32m     12\u001b[0m table_name \u001b[38;5;241m=\u001b[39m \u001b[38;5;124m'\u001b[39m\u001b[38;5;124mgpu\u001b[39m\u001b[38;5;124m'\u001b[39m\n\u001b[0;32m---> 13\u001b[0m \u001b[43mconn\u001b[49m\u001b[38;5;241;43m.\u001b[39;49m\u001b[43mexecute\u001b[49m\u001b[43m(\u001b[49m\u001b[38;5;124;43mf\u001b[39;49m\u001b[38;5;124;43m'''\u001b[39;49m\u001b[38;5;124;43mCREATE TABLE \u001b[39;49m\u001b[38;5;132;43;01m{\u001b[39;49;00m\u001b[43mtable_name\u001b[49m\u001b[38;5;132;43;01m}\u001b[39;49;00m\u001b[38;5;124;43m \u001b[39;49m\n\u001b[1;32m     14\u001b[0m \u001b[38;5;124;43m       (ID             INT     , \u001b[39;49m\n\u001b[1;32m     15\u001b[0m \u001b[38;5;124;43m       NAME           TEXT    , \u001b[39;49m\n\u001b[1;32m     16\u001b[0m \u001b[38;5;124;43m       PRICE          INT    ,\u001b[39;49m\n\u001b[1;32m     17\u001b[0m \u001b[38;5;124;43m       MODEL          TEXT    ,\u001b[39;49m\n\u001b[1;32m     18\u001b[0m \u001b[38;5;124;43m       BRAND          TEXT    \u001b[39;49m\n\u001b[1;32m     19\u001b[0m \u001b[38;5;124;43m       );\u001b[39;49m\u001b[38;5;124;43m'''\u001b[39;49m\u001b[43m)\u001b[49m\n\u001b[1;32m     21\u001b[0m conn\u001b[38;5;241m.\u001b[39mclose()  \n",
      "\u001b[0;31mOperationalError\u001b[0m: table gpu already exists"
     ]
    }
   ],
   "source": [
    "# 建立表格\n",
    "\n",
    "table_name = 'cpu'\n",
    "conn.execute(f'''CREATE TABLE {table_name} \n",
    "       (ID             INT     , \n",
    "       NAME           TEXT    , \n",
    "       PRICE          INT    ,\n",
    "       MODEL          TEXT    ,\n",
    "       BRAND          TEXT    \n",
    "       );''')\n",
    "\n",
    "table_name = 'gpu'\n",
    "conn.execute(f'''CREATE TABLE {table_name} \n",
    "       (ID             INT     , \n",
    "       NAME           TEXT    , \n",
    "       PRICE          INT    ,\n",
    "       MODEL          TEXT    ,\n",
    "       BRAND          TEXT    \n",
    "       );''')\n",
    "\n",
    "conn.close()  "
   ]
  },
  {
   "cell_type": "markdown",
   "metadata": {},
   "source": [
    "## 增加欄位/減少欄位"
   ]
  },
  {
   "cell_type": "code",
   "execution_count": 3,
   "metadata": {},
   "outputs": [
    {
     "data": {
      "text/html": [
       "<div>\n",
       "<style scoped>\n",
       "    .dataframe tbody tr th:only-of-type {\n",
       "        vertical-align: middle;\n",
       "    }\n",
       "\n",
       "    .dataframe tbody tr th {\n",
       "        vertical-align: top;\n",
       "    }\n",
       "\n",
       "    .dataframe thead th {\n",
       "        text-align: right;\n",
       "    }\n",
       "</style>\n",
       "<table border=\"1\" class=\"dataframe\">\n",
       "  <thead>\n",
       "    <tr style=\"text-align: right;\">\n",
       "      <th></th>\n",
       "      <th>ID</th>\n",
       "      <th>NAME</th>\n",
       "      <th>PRICE</th>\n",
       "      <th>MODEL</th>\n",
       "      <th>BRAND</th>\n",
       "    </tr>\n",
       "  </thead>\n",
       "  <tbody>\n",
       "  </tbody>\n",
       "</table>\n",
       "</div>"
      ],
      "text/plain": [
       "Empty DataFrame\n",
       "Columns: [ID, NAME, PRICE, MODEL, BRAND]\n",
       "Index: []"
      ]
     },
     "execution_count": 3,
     "metadata": {},
     "output_type": "execute_result"
    }
   ],
   "source": [
    "# 查詢測試\n",
    "conn = sqlite3.connect(db_name)  \n",
    "sql1=f'''\n",
    "select *\n",
    "from cpu\n",
    "'''\n",
    "test=pd.read_sql(sql1,conn)\n",
    "conn.close()\n",
    "test.head()"
   ]
  },
  {
   "cell_type": "code",
   "execution_count": 4,
   "metadata": {},
   "outputs": [
    {
     "data": {
      "text/html": [
       "<div>\n",
       "<style scoped>\n",
       "    .dataframe tbody tr th:only-of-type {\n",
       "        vertical-align: middle;\n",
       "    }\n",
       "\n",
       "    .dataframe tbody tr th {\n",
       "        vertical-align: top;\n",
       "    }\n",
       "\n",
       "    .dataframe thead th {\n",
       "        text-align: right;\n",
       "    }\n",
       "</style>\n",
       "<table border=\"1\" class=\"dataframe\">\n",
       "  <thead>\n",
       "    <tr style=\"text-align: right;\">\n",
       "      <th></th>\n",
       "      <th>type</th>\n",
       "      <th>name</th>\n",
       "      <th>sql</th>\n",
       "    </tr>\n",
       "  </thead>\n",
       "  <tbody>\n",
       "    <tr>\n",
       "      <th>0</th>\n",
       "      <td>table</td>\n",
       "      <td>cpu</td>\n",
       "      <td>CREATE TABLE cpu \\n       (ID             INT ...</td>\n",
       "    </tr>\n",
       "    <tr>\n",
       "      <th>1</th>\n",
       "      <td>table</td>\n",
       "      <td>gpu</td>\n",
       "      <td>CREATE TABLE gpu \\n       (ID             INT ...</td>\n",
       "    </tr>\n",
       "  </tbody>\n",
       "</table>\n",
       "</div>"
      ],
      "text/plain": [
       "    type name                                                sql\n",
       "0  table  cpu  CREATE TABLE cpu \\n       (ID             INT ...\n",
       "1  table  gpu  CREATE TABLE gpu \\n       (ID             INT ..."
      ]
     },
     "execution_count": 4,
     "metadata": {},
     "output_type": "execute_result"
    }
   ],
   "source": [
    "# 查詢目前DB中所有的表格\n",
    "conn = sqlite3.connect(db_name)  \n",
    "sql1=f'''\n",
    "SELECT type, name, sql FROM sqlite_master WHERE type IN ('table', 'view');\n",
    "'''\n",
    "test=pd.read_sql(sql1,conn)\n",
    "conn.close()\n",
    "test"
   ]
  },
  {
   "cell_type": "code",
   "execution_count": null,
   "metadata": {},
   "outputs": [],
   "source": []
  },
  {
   "cell_type": "code",
   "execution_count": null,
   "metadata": {},
   "outputs": [],
   "source": []
  }
 ],
 "metadata": {
  "kernelspec": {
   "display_name": "Python 3 (ipykernel)",
   "language": "python",
   "name": "python3"
  },
  "language_info": {
   "codemirror_mode": {
    "name": "ipython",
    "version": 3
   },
   "file_extension": ".py",
   "mimetype": "text/x-python",
   "name": "python",
   "nbconvert_exporter": "python",
   "pygments_lexer": "ipython3",
   "version": "3.10.13"
  }
 },
 "nbformat": 4,
 "nbformat_minor": 4
}
