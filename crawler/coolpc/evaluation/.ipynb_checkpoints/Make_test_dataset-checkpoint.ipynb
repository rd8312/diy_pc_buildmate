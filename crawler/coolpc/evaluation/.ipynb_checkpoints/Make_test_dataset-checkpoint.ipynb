{
 "cells": [
  {
   "cell_type": "markdown",
   "metadata": {},
   "source": [
    "一般問題 資料建立"
   ]
  },
  {
   "cell_type": "code",
   "execution_count": 1,
   "metadata": {},
   "outputs": [],
   "source": [
    "import os\n",
    "import json\n",
    "from units import get_time_text\n",
    "\n",
    "qa_index = 1\n",
    "only_for_classification = False\n",
    "\n",
    "def make_dataset(only_for_classification):\n",
    "    \n",
    "    _, build_dataset_time = get_time_text()\n",
    "    time_number = build_dataset_time.replace('-','').replace(' ','')\n",
    "\n",
    "    dataset = {}\n",
    "    dataset['name'] = 'test_dataset'\n",
    "    dataset['build_dataset_time'] = build_dataset_time\n",
    "    dataset['build_dataset_time_number'] = time_number\n",
    "    dataset['only_for_classification'] = only_for_classification\n",
    "    dataset['data_list'] = []\n",
    "    dataset['token'] = 0\n",
    "    \n",
    "    score_data = {}\n",
    "    score_data['Classifier'] = 0\n",
    "    score_data['General'] = 0\n",
    "    score_data['SQL'] = 0\n",
    "    score_data['Retrieve'] = 0\n",
    "    \n",
    "    dataset['score_data'] = score_data\n",
    "    dataset['Classifier Accuracy'] = 0\n",
    "    \n",
    "    return dataset\n",
    "    \n",
    "test_set = make_dataset(only_for_classification)\n",
    "test_dataset_path = 'data/test_dataset.json' \n"
   ]
  },
  {
   "cell_type": "code",
   "execution_count": 2,
   "metadata": {},
   "outputs": [],
   "source": [
    "QAs_path = 'data/General_QAs.json'\n",
    "every_class_test_maximum = 70\n",
    "\n",
    "with open(QAs_path, 'r') as f:\n",
    "    QAs = json.load(f)\n",
    "\n",
    "for qa in QAs[:every_class_test_maximum]:\n",
    "    \n",
    "    data = {}\n",
    "    data['qa_index'] = str(qa_index)\n",
    "    qa_index += 1\n",
    "    data['class'] = '1'\n",
    "    data['question'] = qa['question']\n",
    "    data['only_for_classification'] = only_for_classification\n",
    "    \n",
    "    test_set['data_list'].append(data)"
   ]
  },
  {
   "cell_type": "markdown",
   "metadata": {},
   "source": [
    "查詢資料 建立"
   ]
  },
  {
   "cell_type": "code",
   "execution_count": 3,
   "metadata": {},
   "outputs": [],
   "source": [
    "questions = [\n",
    "    ('B760M-K-CSM多少錢呀？', 'int', '10590'),\n",
    "    ('請幫我查詢H610M-E的品牌？', 'str', '微星'),\n",
    "    ('我想問B760M-D2H的價格多少，想詢問價格', 'int', '3090'),\n",
    "    ('H770-PRO的品質是哪一家？可以幫我確認嗎？', 'str', '華碩'),\n",
    "    \n",
    "    ('Kingston-Beast-16GB價格多少？', 'int', '1520'),\n",
    "    ('ADATA-16GB多少錢？', 'int', '1599'),\n",
    "    ('請幫我查詢Crucial-8G的價格', 'int', '729'),\n",
    "    ('Crucial-32GB請問是哪家公司的產品？', 'str', '美光'),\n",
    "    \n",
    "    ('i7-14900K的產品價格多少？', 'int', '20400'),\n",
    "    ('i7-14700KF是哪一家公司的產品？', 'str', 'Intel'),\n",
    "    ('R5-7600X現在價錢多少？', 'int', '7950'),\n",
    "    ('R9-7900X是哪一家公司的產品？', 'str', 'ADM'),\n",
    "    \n",
    "     ('ZOTAC-GT730價格多少錢？', 'int', '2350'),\n",
    "     ('我想要查詢MSI-GT710的公司', 'str', '微星'),\n",
    "     ('請問的價格GIGABYTE-RTX4070Ti', 'int', '24900'),\n",
    "    #以下是錯的\n",
    "     ('請幫我查詢主機板IT-332', 'error', ''),\n",
    "     ('COOL-Bird價格多少？', 'error', ''),\n",
    "     ('Fire-fish 現在的價格為多少？', 'error', ''),\n",
    "     ('I3-7800為哪一家公司？', 'error', ''),\n",
    "     ('RTX9899目前多少錢？？', 'error', ''),\n",
    "]\n",
    "\n",
    "for question in questions[:every_class_test_maximum]:\n",
    "    \n",
    "    data = {}\n",
    "    data['qa_index'] = str(qa_index)\n",
    "    qa_index += 1\n",
    "    data['class'] = '2'\n",
    "    data['question'] = question[0]\n",
    "    data['answer'] = question[2]\n",
    "    data['answer_type'] = question[1]\n",
    "    data['only_for_classification'] = only_for_classification\n",
    "    test_set['data_list'].append(data)"
   ]
  },
  {
   "cell_type": "markdown",
   "metadata": {},
   "source": [
    "推薦 資料建立"
   ]
  },
  {
   "cell_type": "code",
   "execution_count": 4,
   "metadata": {},
   "outputs": [],
   "source": [
    "questions = ['請提供一組清單，是40K左右 遊戲機',\n",
    "             '我想要一台，40k左右，工作加上打遊戲的主機',\n",
    "             '我是碩士生，想要一台可訓練深度學習，AI用的機器',\n",
    "             '我現在是大學生，想要寫報告、文書處理的機器',\n",
    "             '想要一台80k左右的機器，可以打遊戲',\n",
    "             '我是機構設計師，請提供給我一台可以使用Solidwork跟AutoCAD的機器',\n",
    "             '想要一台遊戲機器，可以玩帕魯跟2077遊戲機',\n",
    "             '想要一台美工編輯用的機器，可以跑PS跟AI，專業的美術軟體',\n",
    "             '我想要一台可以跑過票用的機器，用來看股票交易',\n",
    "             '預算45-50k 可以打遊戲的機器']\n",
    "\n",
    "for question in questions[:every_class_test_maximum]:\n",
    "    \n",
    "    data = {}\n",
    "    data['qa_index'] = str(qa_index)\n",
    "    qa_index += 1\n",
    "    data['class'] = '4'\n",
    "    data['question'] = question\n",
    "    data['only_for_classification'] = only_for_classification\n",
    "    test_set['data_list'].append(data)"
   ]
  },
  {
   "cell_type": "code",
   "execution_count": 5,
   "metadata": {},
   "outputs": [],
   "source": [
    "with open(test_dataset_path, 'w') as file:\n",
    "    json.dump(test_set, file, ensure_ascii=False, indent=4)"
   ]
  },
  {
   "cell_type": "code",
   "execution_count": null,
   "metadata": {},
   "outputs": [],
   "source": []
  },
  {
   "cell_type": "code",
   "execution_count": null,
   "metadata": {},
   "outputs": [],
   "source": []
  },
  {
   "cell_type": "code",
   "execution_count": null,
   "metadata": {},
   "outputs": [],
   "source": []
  }
 ],
 "metadata": {
  "kernelspec": {
   "display_name": "Python 3 (ipykernel)",
   "language": "python",
   "name": "python3"
  },
  "language_info": {
   "codemirror_mode": {
    "name": "ipython",
    "version": 3
   },
   "file_extension": ".py",
   "mimetype": "text/x-python",
   "name": "python",
   "nbconvert_exporter": "python",
   "pygments_lexer": "ipython3",
   "version": "3.10.13"
  }
 },
 "nbformat": 4,
 "nbformat_minor": 4
}
